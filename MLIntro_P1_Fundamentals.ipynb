{
  "nbformat": 4,
  "nbformat_minor": 0,
  "metadata": {
    "colab": {
      "name": "MLIntro_P1_Fundamentals.ipynb",
      "version": "0.3.2",
      "provenance": [],
      "collapsed_sections": [
        "8YigN9O1lvAF",
        "9tOReNZ5GM2x",
        "oBwgMIoBzQBQ",
        "E-g8LKf8Q0VM",
        "SvIRZFrxuOjP",
        "Al5BG4ONyzdh",
        "0cZbSsnGzhpg",
        "U-WZI0lT6N7m"
      ],
      "toc_visible": true,
      "include_colab_link": true
    },
    "kernelspec": {
      "name": "python3",
      "display_name": "Python 3"
    }
  },
  "cells": [
    {
      "cell_type": "markdown",
      "metadata": {
        "id": "view-in-github",
        "colab_type": "text"
      },
      "source": [
        "<a href=\"https://colab.research.google.com/github/freny-caicedo-endava/Pio.ML/blob/master/MLIntro_P1_Fundamentals.ipynb\" target=\"_parent\"><img src=\"https://colab.research.google.com/assets/colab-badge.svg\" alt=\"Open In Colab\"/></a>"
      ]
    },
    {
      "cell_type": "markdown",
      "metadata": {
        "id": "Wg28iOZSFdHr",
        "colab_type": "text"
      },
      "source": [
        "\n",
        "> ![answer](https://drive.google.com/uc?export=view&id=1yj7jPO0w4Ayq1OxkpflWOE-BBdMd_O4k)\n",
        "\n",
        "## Introduction to Machine Learning.      \n",
        "###PART ONE: Fundamentals\n"
      ]
    },
    {
      "cell_type": "markdown",
      "metadata": {
        "id": "8YigN9O1lvAF",
        "colab_type": "text"
      },
      "source": [
        "# 1. WARMING UP"
      ]
    },
    {
      "cell_type": "markdown",
      "metadata": {
        "id": "RR5K4QhRM8qf",
        "colab_type": "text"
      },
      "source": [
        "\n",
        "## 1.1 So, what is Machine learning?\n",
        "\n",
        "\n",
        "*   \"*Field of study that gives computers the ability to learn without being explicitly programmed*\" - Arthur Samuel, IBM, 1959 \n",
        "*   \"*Machine learning algorithms can figure out how to perform important tasks by generalizing from examples*\" - Pedro Domingos, university of Washington\n",
        "*   Field of Computer Science and Artificial intelligence that “learns” from data without human intervention\n",
        "\n",
        "> ![answer](https://drive.google.com/uc?export=view&id=1nnfXzHPEfdqdgA_RNPZfeUYYsa_c_Osr)\n",
        "\n",
        "> Just one sample, can we figure out what's next?\n",
        "\n",
        "![answer](https://drive.google.com/uc?export=view&id=1pGR-uys5YAXYrRNkbI60o2u8ABxDH610)\n",
        "\n",
        "\n",
        "> What about having two samples?\n",
        "\n",
        "![answer](https://drive.google.com/uc?export=view&id=1XgkXCZtdg_1Cl8osr3yjRGiGJXHcomF-)\n",
        "\n",
        "> Answer:\n",
        "\n",
        "![answer](https://drive.google.com/uc?export=view&id=1mRTbLt2KI7X8pKSV0LP6zxd8yqCTHcHv)\n",
        "\n",
        "\n",
        "\n",
        "![answer](https://drive.google.com/uc?export=view&id=1lQ6xJFo8H6NUar4V4szXY1i2n7wVHJEP)\n"
      ]
    },
    {
      "cell_type": "markdown",
      "metadata": {
        "id": "cDfoYi8WU7XM",
        "colab_type": "text"
      },
      "source": [
        "## 1.2 Kinds of Machine learning\n",
        "\n",
        "\n",
        "### Supervised Learning\n",
        "\n",
        "In this case, the system tries to learn from the previous examples that are given.\n",
        "\n",
        "We have both input variables (x) and output variables(Y) and can use an algorithm to derive the mapping function from the input to the output Y = f(X).\n",
        "\n",
        "The goal is to approximate the mapping function so well that when you have new input data (x) you can predict the output variables (Y).\n",
        "\n",
        "\n",
        "Supervised learning can be further divided into two parts: *Classification* and *Regression*.\n",
        "\n",
        "![answer](https://drive.google.com/uc?export=view&id=1MZovtEKTrnKyYufVQgzPbIOxKey6ppfp)\n",
        "\n",
        "A *Classification* problem is when the output variable is a category or a group, such as “disease” and “no disease” or “spam” and “no spam”, so the function being learned is discrete.\n",
        "\n",
        "A *Regression* problem is when the output variable is a real value, such as “dollars” or “height.”\n",
        "\n",
        "\n",
        "### Unsupervised Learning\n",
        "\n",
        "Here, the algorithms are left to themselves to discover interesting structures in the data because  you only have input data (X) and no corresponding output variables, the system attempts to find the patterns directly from the example given.\n",
        "\n",
        "![answer](https://drive.google.com/uc?export=view&id=1q9UocXAlD3qI5c5ul4jPg-ehmLCYa09H)\n",
        "\n",
        "They are quite useful in providing humans with insights into the meaning of data and new useful inputs to supervised machine learning algorithms.\n",
        "\n",
        "\n",
        "### Reinforcement Learning\n",
        "\n",
        "A reinforcement learning algorithm learns by interacting with its environment, it receives rewards by performing correctly and penalties for performing incorrectly. It learns without human intervention by maximizing its reward and minimizing its penalty, in this way the agent improves its environment knowledge to select the next action.\n",
        "\n",
        "\n",
        "### Deep Learning\n",
        "\n",
        "Deep Learning is a subfield of machine learning that mimics the workings of the human brain in processing data for use in decision making.\n",
        "\n",
        "Most deep learning methods use neural network architectures, which is why deep learning models are often referred to as deep neural networks.\n",
        "\n",
        "![answer](https://drive.google.com/uc?export=view&id=1r25sJVCmCKcxtRzJJJ32gnOSa397eorn)\n",
        " Networks can have tens or hundreds of hidden layers."
      ]
    },
    {
      "cell_type": "markdown",
      "metadata": {
        "id": "9tOReNZ5GM2x",
        "colab_type": "text"
      },
      "source": [
        "# 2. REGRESSION"
      ]
    },
    {
      "cell_type": "markdown",
      "metadata": {
        "id": "a8OBFn7SBDIG",
        "colab_type": "text"
      },
      "source": [
        "### 2.1 Basic problem\n",
        "\n",
        "```\n",
        "-------------\n",
        "  x  │  y\n",
        "-------------\n",
        "  1  │  1\n",
        "  2  │  4\n",
        "  3  │ ???\n",
        "------------\n",
        "\n",
        "```"
      ]
    },
    {
      "cell_type": "code",
      "metadata": {
        "id": "JXFjcLelAfXi",
        "colab_type": "code",
        "outputId": "a190185f-0284-4a16-ea86-df080b2c9f39",
        "colab": {
          "base_uri": "https://localhost:8080/",
          "height": 269
        }
      },
      "source": [
        "import matplotlib.pyplot as plt\n",
        "\n",
        "plt.plot([1, 2], [1, 4], 'ro')\n",
        "plt.axis([0, 4, 0, 10])\n",
        "plt.show()"
      ],
      "execution_count": 0,
      "outputs": [
        {
          "output_type": "display_data",
          "data": {
            "image/png": "[encoded data removed]",
            "text/plain": [
              "<Figure size 432x288 with 1 Axes>"
            ]
          },
          "metadata": {
            "tags": []
          }
        }
      ]
    },
    {
      "cell_type": "markdown",
      "metadata": {
        "id": "DbztbprO98tJ",
        "colab_type": "text"
      },
      "source": [
        "\n",
        "```\n",
        "m = (y2 − y1)/(x2 − x1)\n",
        "m = (4 - 1)/(2 - 1)\n",
        "m = 3\n",
        "\n",
        "y − y1 = m(x − x1)\n",
        "y - 1 = 3(x - 1)\n",
        "y = 3x - 3 + 1\n",
        "\n",
        "y = 3x - 2\n",
        "\n",
        "```"
      ]
    },
    {
      "cell_type": "code",
      "metadata": {
        "id": "exXN4k7ABvg5",
        "colab_type": "code",
        "outputId": "471eb34e-ee20-452b-ebc8-6f492c1bb591",
        "colab": {
          "base_uri": "https://localhost:8080/",
          "height": 269
        }
      },
      "source": [
        "import numpy as np\n",
        "\n",
        "def f(x):\n",
        "  return 3*x - 2\n",
        "\n",
        "input, ouput = [], []\n",
        "\n",
        "for x in range(5):\n",
        "  input.append(x)\n",
        "  ouput.append(f(x))\n",
        "  \n",
        "plt.plot([1, 2], [1, 4], 'ro')\n",
        "plt.plot(input, ouput, 'b')\n",
        "plt.show()"
      ],
      "execution_count": 0,
      "outputs": [
        {
          "output_type": "display_data",
          "data": {
            "image/png": "[encoded data removed]",
            "text/plain": [
              "<Figure size 432x288 with 1 Axes>"
            ]
          },
          "metadata": {
            "tags": []
          }
        }
      ]
    },
    {
      "cell_type": "markdown",
      "metadata": {
        "id": "llgEESVZUaZR",
        "colab_type": "text"
      },
      "source": [
        "### 2.2 A bit more complex problem\n",
        "\n",
        "```\n",
        "-------------\n",
        "  x  │  y\n",
        "-------------\n",
        "  1  │  3\n",
        "  2  │  3.2\n",
        "  3  │  4\n",
        "  4  │  2\n",
        "  5  │  3.8\n",
        "  6  │  3.5\n",
        "------------\n",
        "```"
      ]
    },
    {
      "cell_type": "code",
      "metadata": {
        "id": "m3wCz-m42L3P",
        "colab_type": "code",
        "outputId": "55594f32-35be-4387-df07-f957bd41ada4",
        "colab": {
          "base_uri": "https://localhost:8080/",
          "height": 269
        }
      },
      "source": [
        "from sklearn.linear_model import LinearRegression\n",
        "\n",
        "\n",
        "# COLLECT AND EXPLORE\n",
        "\n",
        "table = {\n",
        "    1: 2.5,\n",
        "    2: 3.2,\n",
        "    3: 3.5,\n",
        "    4: 2.7,\n",
        "    5: 3.8,\n",
        "    6: 3.5\n",
        "}\n",
        "\n",
        "\n",
        "train, target = [], []\n",
        "\n",
        "for x, y in table.items():\n",
        "  train.append([x])\n",
        "  target.append([y])\n",
        "\n",
        "plt.plot(train, target, 'ro')\n",
        "plt.axis([0, 7, 0, 5])\n",
        "\n",
        "\n",
        "# TRAIN\n",
        "\n",
        "train, target = np.array(train), np.array(target)\n",
        "model = LinearRegression().fit(train, target)\n",
        "\n",
        "\n",
        "# TEST\n",
        "\n",
        "testX, testY = [], []\n",
        "\n",
        "for x in range(8):\n",
        "  answer = model.predict(np.array([[x]]))\n",
        "  testX.append([x])\n",
        "  testY.append(answer[0])\n",
        "\n",
        "plt.plot(testX, testY, 'b')\n",
        "plt.show()\n"
      ],
      "execution_count": 0,
      "outputs": [
        {
          "output_type": "display_data",
          "data": {
            "image/png": "[encoded data removed]",
            "text/plain": [
              "<Figure size 432x288 with 1 Axes>"
            ]
          },
          "metadata": {
            "tags": []
          }
        }
      ]
    },
    {
      "cell_type": "markdown",
      "metadata": {
        "id": "oBwgMIoBzQBQ",
        "colab_type": "text"
      },
      "source": [
        "# 3. CLASSIFICATION\n",
        "\n",
        "In the next example we need to build a model to predict is a person earns more that USD$ 50K a year or not."
      ]
    },
    {
      "cell_type": "markdown",
      "metadata": {
        "id": "E-g8LKf8Q0VM",
        "colab_type": "text"
      },
      "source": [
        "## 3.1 Load and pre-process data\n",
        "\n",
        "Let's start by uploading our census.csv file using Colab's interface."
      ]
    },
    {
      "cell_type": "code",
      "metadata": {
        "id": "BX2_Gd0NNUyP",
        "colab_type": "code",
        "outputId": "e6dd39d3-8557-4761-c3f9-57a7eb3879db",
        "colab": {
          "base_uri": "https://localhost:8080/",
          "height": 292
        }
      },
      "source": [
        "import pandas as pd\n",
        "\n",
        "# load to Pandas Dataframe and preview\n",
        "df = pd.read_csv('census.csv', header=0)\n",
        "df.head()"
      ],
      "execution_count": 9,
      "outputs": [
        {
          "output_type": "execute_result",
          "data": {
            "text/html": [
              "<div>\n",
              "<style scoped>\n",
              "    .dataframe tbody tr th:only-of-type {\n",
              "        vertical-align: middle;\n",
              "    }\n",
              "\n",
              "    .dataframe tbody tr th {\n",
              "        vertical-align: top;\n",
              "    }\n",
              "\n",
              "    .dataframe thead th {\n",
              "        text-align: right;\n",
              "    }\n",
              "</style>\n",
              "<table border=\"1\" class=\"dataframe\">\n",
              "  <thead>\n",
              "    <tr style=\"text-align: right;\">\n",
              "      <th></th>\n",
              "      <th>age</th>\n",
              "      <th>workclass</th>\n",
              "      <th>education_level</th>\n",
              "      <th>education_num</th>\n",
              "      <th>marital_status</th>\n",
              "      <th>occupation</th>\n",
              "      <th>relationship</th>\n",
              "      <th>race</th>\n",
              "      <th>sex</th>\n",
              "      <th>capital_gain</th>\n",
              "      <th>capital_loss</th>\n",
              "      <th>hours_per_week</th>\n",
              "      <th>native_country</th>\n",
              "      <th>income</th>\n",
              "    </tr>\n",
              "  </thead>\n",
              "  <tbody>\n",
              "    <tr>\n",
              "      <th>0</th>\n",
              "      <td>39</td>\n",
              "      <td>State-gov</td>\n",
              "      <td>Bachelors</td>\n",
              "      <td>13.0</td>\n",
              "      <td>Never-married</td>\n",
              "      <td>Adm-clerical</td>\n",
              "      <td>Not-in-family</td>\n",
              "      <td>White</td>\n",
              "      <td>Male</td>\n",
              "      <td>2174.0</td>\n",
              "      <td>0.0</td>\n",
              "      <td>40.0</td>\n",
              "      <td>United-States</td>\n",
              "      <td>&lt;=50K</td>\n",
              "    </tr>\n",
              "    <tr>\n",
              "      <th>1</th>\n",
              "      <td>50</td>\n",
              "      <td>Self-emp-not-inc</td>\n",
              "      <td>Bachelors</td>\n",
              "      <td>13.0</td>\n",
              "      <td>Married-civ-spouse</td>\n",
              "      <td>Exec-managerial</td>\n",
              "      <td>Husband</td>\n",
              "      <td>White</td>\n",
              "      <td>Male</td>\n",
              "      <td>0.0</td>\n",
              "      <td>0.0</td>\n",
              "      <td>13.0</td>\n",
              "      <td>United-States</td>\n",
              "      <td>&lt;=50K</td>\n",
              "    </tr>\n",
              "    <tr>\n",
              "      <th>2</th>\n",
              "      <td>38</td>\n",
              "      <td>Private</td>\n",
              "      <td>HS-grad</td>\n",
              "      <td>9.0</td>\n",
              "      <td>Divorced</td>\n",
              "      <td>Handlers-cleaners</td>\n",
              "      <td>Not-in-family</td>\n",
              "      <td>White</td>\n",
              "      <td>Male</td>\n",
              "      <td>0.0</td>\n",
              "      <td>0.0</td>\n",
              "      <td>40.0</td>\n",
              "      <td>United-States</td>\n",
              "      <td>&lt;=50K</td>\n",
              "    </tr>\n",
              "    <tr>\n",
              "      <th>3</th>\n",
              "      <td>53</td>\n",
              "      <td>Private</td>\n",
              "      <td>11th</td>\n",
              "      <td>7.0</td>\n",
              "      <td>Married-civ-spouse</td>\n",
              "      <td>Handlers-cleaners</td>\n",
              "      <td>Husband</td>\n",
              "      <td>Black</td>\n",
              "      <td>Male</td>\n",
              "      <td>0.0</td>\n",
              "      <td>0.0</td>\n",
              "      <td>40.0</td>\n",
              "      <td>United-States</td>\n",
              "      <td>&lt;=50K</td>\n",
              "    </tr>\n",
              "    <tr>\n",
              "      <th>4</th>\n",
              "      <td>28</td>\n",
              "      <td>Private</td>\n",
              "      <td>Bachelors</td>\n",
              "      <td>13.0</td>\n",
              "      <td>Married-civ-spouse</td>\n",
              "      <td>Prof-specialty</td>\n",
              "      <td>Wife</td>\n",
              "      <td>Black</td>\n",
              "      <td>Female</td>\n",
              "      <td>0.0</td>\n",
              "      <td>0.0</td>\n",
              "      <td>40.0</td>\n",
              "      <td>Cuba</td>\n",
              "      <td>&lt;=50K</td>\n",
              "    </tr>\n",
              "  </tbody>\n",
              "</table>\n",
              "</div>"
            ],
            "text/plain": [
              "   age          workclass  ...  native_country  income\n",
              "0   39          State-gov  ...   United-States   <=50K\n",
              "1   50   Self-emp-not-inc  ...   United-States   <=50K\n",
              "2   38            Private  ...   United-States   <=50K\n",
              "3   53            Private  ...   United-States   <=50K\n",
              "4   28            Private  ...            Cuba   <=50K\n",
              "\n",
              "[5 rows x 14 columns]"
            ]
          },
          "metadata": {
            "tags": []
          },
          "execution_count": 9
        }
      ]
    },
    {
      "cell_type": "code",
      "metadata": {
        "id": "UcJvSnysR7Vn",
        "colab_type": "code",
        "outputId": "cb99249c-36d7-4a59-e870-726bf7b10ef6",
        "colab": {
          "base_uri": "https://localhost:8080/",
          "height": 224
        }
      },
      "source": [
        "from sklearn.preprocessing import LabelEncoder\n",
        "\n",
        "## Encode labels ##\n",
        "\n",
        "string_cols = ['workclass', 'education_level', 'marital_status', 'occupation',\n",
        "               'relationship', 'race', 'sex', 'native_country', 'income']\n",
        "\n",
        "encoders = {}\n",
        "\n",
        "for row_name in string_cols:\n",
        "  encoders[str(row_name)] = LabelEncoder().fit(df[row_name])\n",
        "  df[row_name] = encoders[str(row_name)].transform(df[row_name])\n",
        "\n",
        "df.head()"
      ],
      "execution_count": 10,
      "outputs": [
        {
          "output_type": "execute_result",
          "data": {
            "text/html": [
              "<div>\n",
              "<style scoped>\n",
              "    .dataframe tbody tr th:only-of-type {\n",
              "        vertical-align: middle;\n",
              "    }\n",
              "\n",
              "    .dataframe tbody tr th {\n",
              "        vertical-align: top;\n",
              "    }\n",
              "\n",
              "    .dataframe thead th {\n",
              "        text-align: right;\n",
              "    }\n",
              "</style>\n",
              "<table border=\"1\" class=\"dataframe\">\n",
              "  <thead>\n",
              "    <tr style=\"text-align: right;\">\n",
              "      <th></th>\n",
              "      <th>age</th>\n",
              "      <th>workclass</th>\n",
              "      <th>education_level</th>\n",
              "      <th>education_num</th>\n",
              "      <th>marital_status</th>\n",
              "      <th>occupation</th>\n",
              "      <th>relationship</th>\n",
              "      <th>race</th>\n",
              "      <th>sex</th>\n",
              "      <th>capital_gain</th>\n",
              "      <th>capital_loss</th>\n",
              "      <th>hours_per_week</th>\n",
              "      <th>native_country</th>\n",
              "      <th>income</th>\n",
              "    </tr>\n",
              "  </thead>\n",
              "  <tbody>\n",
              "    <tr>\n",
              "      <th>0</th>\n",
              "      <td>39</td>\n",
              "      <td>5</td>\n",
              "      <td>9</td>\n",
              "      <td>13.0</td>\n",
              "      <td>4</td>\n",
              "      <td>0</td>\n",
              "      <td>1</td>\n",
              "      <td>4</td>\n",
              "      <td>1</td>\n",
              "      <td>2174.0</td>\n",
              "      <td>0.0</td>\n",
              "      <td>40.0</td>\n",
              "      <td>38</td>\n",
              "      <td>0</td>\n",
              "    </tr>\n",
              "    <tr>\n",
              "      <th>1</th>\n",
              "      <td>50</td>\n",
              "      <td>4</td>\n",
              "      <td>9</td>\n",
              "      <td>13.0</td>\n",
              "      <td>2</td>\n",
              "      <td>3</td>\n",
              "      <td>0</td>\n",
              "      <td>4</td>\n",
              "      <td>1</td>\n",
              "      <td>0.0</td>\n",
              "      <td>0.0</td>\n",
              "      <td>13.0</td>\n",
              "      <td>38</td>\n",
              "      <td>0</td>\n",
              "    </tr>\n",
              "    <tr>\n",
              "      <th>2</th>\n",
              "      <td>38</td>\n",
              "      <td>2</td>\n",
              "      <td>11</td>\n",
              "      <td>9.0</td>\n",
              "      <td>0</td>\n",
              "      <td>5</td>\n",
              "      <td>1</td>\n",
              "      <td>4</td>\n",
              "      <td>1</td>\n",
              "      <td>0.0</td>\n",
              "      <td>0.0</td>\n",
              "      <td>40.0</td>\n",
              "      <td>38</td>\n",
              "      <td>0</td>\n",
              "    </tr>\n",
              "    <tr>\n",
              "      <th>3</th>\n",
              "      <td>53</td>\n",
              "      <td>2</td>\n",
              "      <td>1</td>\n",
              "      <td>7.0</td>\n",
              "      <td>2</td>\n",
              "      <td>5</td>\n",
              "      <td>0</td>\n",
              "      <td>2</td>\n",
              "      <td>1</td>\n",
              "      <td>0.0</td>\n",
              "      <td>0.0</td>\n",
              "      <td>40.0</td>\n",
              "      <td>38</td>\n",
              "      <td>0</td>\n",
              "    </tr>\n",
              "    <tr>\n",
              "      <th>4</th>\n",
              "      <td>28</td>\n",
              "      <td>2</td>\n",
              "      <td>9</td>\n",
              "      <td>13.0</td>\n",
              "      <td>2</td>\n",
              "      <td>9</td>\n",
              "      <td>5</td>\n",
              "      <td>2</td>\n",
              "      <td>0</td>\n",
              "      <td>0.0</td>\n",
              "      <td>0.0</td>\n",
              "      <td>40.0</td>\n",
              "      <td>4</td>\n",
              "      <td>0</td>\n",
              "    </tr>\n",
              "  </tbody>\n",
              "</table>\n",
              "</div>"
            ],
            "text/plain": [
              "   age  workclass  education_level  ...  hours_per_week  native_country  income\n",
              "0   39          5                9  ...            40.0              38       0\n",
              "1   50          4                9  ...            13.0              38       0\n",
              "2   38          2               11  ...            40.0              38       0\n",
              "3   53          2                1  ...            40.0              38       0\n",
              "4   28          2                9  ...            40.0               4       0\n",
              "\n",
              "[5 rows x 14 columns]"
            ]
          },
          "metadata": {
            "tags": []
          },
          "execution_count": 10
        }
      ]
    },
    {
      "cell_type": "code",
      "metadata": {
        "id": "aGZyuRL9tIcP",
        "colab_type": "code",
        "outputId": "422924b7-0194-46dd-d02a-1f82d62dd3ef",
        "colab": {
          "base_uri": "https://localhost:8080/",
          "height": 224
        }
      },
      "source": [
        "# remove target column\n",
        "y = df.pop('income')\n",
        "df.head()"
      ],
      "execution_count": 11,
      "outputs": [
        {
          "output_type": "execute_result",
          "data": {
            "text/html": [
              "<div>\n",
              "<style scoped>\n",
              "    .dataframe tbody tr th:only-of-type {\n",
              "        vertical-align: middle;\n",
              "    }\n",
              "\n",
              "    .dataframe tbody tr th {\n",
              "        vertical-align: top;\n",
              "    }\n",
              "\n",
              "    .dataframe thead th {\n",
              "        text-align: right;\n",
              "    }\n",
              "</style>\n",
              "<table border=\"1\" class=\"dataframe\">\n",
              "  <thead>\n",
              "    <tr style=\"text-align: right;\">\n",
              "      <th></th>\n",
              "      <th>age</th>\n",
              "      <th>workclass</th>\n",
              "      <th>education_level</th>\n",
              "      <th>education_num</th>\n",
              "      <th>marital_status</th>\n",
              "      <th>occupation</th>\n",
              "      <th>relationship</th>\n",
              "      <th>race</th>\n",
              "      <th>sex</th>\n",
              "      <th>capital_gain</th>\n",
              "      <th>capital_loss</th>\n",
              "      <th>hours_per_week</th>\n",
              "      <th>native_country</th>\n",
              "    </tr>\n",
              "  </thead>\n",
              "  <tbody>\n",
              "    <tr>\n",
              "      <th>0</th>\n",
              "      <td>39</td>\n",
              "      <td>5</td>\n",
              "      <td>9</td>\n",
              "      <td>13.0</td>\n",
              "      <td>4</td>\n",
              "      <td>0</td>\n",
              "      <td>1</td>\n",
              "      <td>4</td>\n",
              "      <td>1</td>\n",
              "      <td>2174.0</td>\n",
              "      <td>0.0</td>\n",
              "      <td>40.0</td>\n",
              "      <td>38</td>\n",
              "    </tr>\n",
              "    <tr>\n",
              "      <th>1</th>\n",
              "      <td>50</td>\n",
              "      <td>4</td>\n",
              "      <td>9</td>\n",
              "      <td>13.0</td>\n",
              "      <td>2</td>\n",
              "      <td>3</td>\n",
              "      <td>0</td>\n",
              "      <td>4</td>\n",
              "      <td>1</td>\n",
              "      <td>0.0</td>\n",
              "      <td>0.0</td>\n",
              "      <td>13.0</td>\n",
              "      <td>38</td>\n",
              "    </tr>\n",
              "    <tr>\n",
              "      <th>2</th>\n",
              "      <td>38</td>\n",
              "      <td>2</td>\n",
              "      <td>11</td>\n",
              "      <td>9.0</td>\n",
              "      <td>0</td>\n",
              "      <td>5</td>\n",
              "      <td>1</td>\n",
              "      <td>4</td>\n",
              "      <td>1</td>\n",
              "      <td>0.0</td>\n",
              "      <td>0.0</td>\n",
              "      <td>40.0</td>\n",
              "      <td>38</td>\n",
              "    </tr>\n",
              "    <tr>\n",
              "      <th>3</th>\n",
              "      <td>53</td>\n",
              "      <td>2</td>\n",
              "      <td>1</td>\n",
              "      <td>7.0</td>\n",
              "      <td>2</td>\n",
              "      <td>5</td>\n",
              "      <td>0</td>\n",
              "      <td>2</td>\n",
              "      <td>1</td>\n",
              "      <td>0.0</td>\n",
              "      <td>0.0</td>\n",
              "      <td>40.0</td>\n",
              "      <td>38</td>\n",
              "    </tr>\n",
              "    <tr>\n",
              "      <th>4</th>\n",
              "      <td>28</td>\n",
              "      <td>2</td>\n",
              "      <td>9</td>\n",
              "      <td>13.0</td>\n",
              "      <td>2</td>\n",
              "      <td>9</td>\n",
              "      <td>5</td>\n",
              "      <td>2</td>\n",
              "      <td>0</td>\n",
              "      <td>0.0</td>\n",
              "      <td>0.0</td>\n",
              "      <td>40.0</td>\n",
              "      <td>4</td>\n",
              "    </tr>\n",
              "  </tbody>\n",
              "</table>\n",
              "</div>"
            ],
            "text/plain": [
              "   age  workclass  ...  hours_per_week  native_country\n",
              "0   39          5  ...            40.0              38\n",
              "1   50          4  ...            13.0              38\n",
              "2   38          2  ...            40.0              38\n",
              "3   53          2  ...            40.0              38\n",
              "4   28          2  ...            40.0               4\n",
              "\n",
              "[5 rows x 13 columns]"
            ]
          },
          "metadata": {
            "tags": []
          },
          "execution_count": 11
        }
      ]
    },
    {
      "cell_type": "markdown",
      "metadata": {
        "id": "SvIRZFrxuOjP",
        "colab_type": "text"
      },
      "source": [
        "## 3.2 Train and measure Accuracy"
      ]
    },
    {
      "cell_type": "markdown",
      "metadata": {
        "id": "xlDMAvmpuYV3",
        "colab_type": "text"
      },
      "source": [
        "### - Native Bayes"
      ]
    },
    {
      "cell_type": "code",
      "metadata": {
        "id": "ZfgiHkK6ufdx",
        "colab_type": "code",
        "outputId": "d1ae0b87-b3b6-4eeb-abb3-265d5b6a73e5",
        "colab": {
          "base_uri": "https://localhost:8080/",
          "height": 68
        }
      },
      "source": [
        "from sklearn.model_selection import cross_val_score\n",
        "from sklearn.naive_bayes import GaussianNB\n",
        "import time\n",
        "\n",
        "t0 = time.time()\n",
        "\n",
        "# build model\n",
        "clf = GaussianNB()\n",
        "clf.fit(df, y)\n",
        "print(f'GaussianNB, {time.time()-t0:.3f} seconds training.') \n",
        "\n",
        "# get scores\n",
        "scores = cross_val_score(clf, df, y, cv=5)\n",
        "print(scores)\n",
        "print(f\"Accuracy: {scores.mean():0.2f} (+/- {scores.std() * 2:0.5f})\")"
      ],
      "execution_count": 12,
      "outputs": [
        {
          "output_type": "stream",
          "text": [
            "GaussianNB, 0.036 seconds training.\n",
            "[0.79270315 0.79635158 0.79215036 0.79854047 0.79365255]\n",
            "Accuracy: 0.79 (+/- 0.00482)\n"
          ],
          "name": "stdout"
        }
      ]
    },
    {
      "cell_type": "markdown",
      "metadata": {
        "id": "Al5BG4ONyzdh",
        "colab_type": "text"
      },
      "source": [
        "### - Decision Trees"
      ]
    },
    {
      "cell_type": "code",
      "metadata": {
        "id": "w7FwHLVny5Gn",
        "colab_type": "code",
        "outputId": "03ab641d-fce2-4a55-edb9-4ce43c07db68",
        "colab": {
          "base_uri": "https://localhost:8080/",
          "height": 68
        }
      },
      "source": [
        "from sklearn.tree import DecisionTreeClassifier\n",
        "\n",
        "t0 = time.time()\n",
        "\n",
        "clf = DecisionTreeClassifier(random_state=0)\n",
        "clf.fit(df, y)\n",
        "print(f'DecisionTree, {time.time()-t0:.3f} seconds training.') \n",
        "\n",
        "scores = cross_val_score(clf, df, y, cv=5)\n",
        "print(scores)\n",
        "print(f\"Accuracy: {scores.mean():0.2f} (+/- {scores.std() * 2:0.5f})\")"
      ],
      "execution_count": 13,
      "outputs": [
        {
          "output_type": "stream",
          "text": [
            "DecisionTree, 0.236 seconds training.\n",
            "[0.81503593 0.8145937  0.82310669 0.81689518 0.8106823 ]\n",
            "Accuracy: 0.82 (+/- 0.00812)\n"
          ],
          "name": "stdout"
        }
      ]
    },
    {
      "cell_type": "markdown",
      "metadata": {
        "id": "0cZbSsnGzhpg",
        "colab_type": "text"
      },
      "source": [
        "### - Random Forest"
      ]
    },
    {
      "cell_type": "code",
      "metadata": {
        "id": "jgn3bfBEzl2H",
        "colab_type": "code",
        "outputId": "2780137c-f0bf-43df-8654-763812defffd",
        "colab": {
          "base_uri": "https://localhost:8080/",
          "height": 68
        }
      },
      "source": [
        "from sklearn.ensemble import RandomForestClassifier\n",
        "\n",
        "t0 = time.time()\n",
        "\n",
        "clf = RandomForestClassifier(n_estimators=100)\n",
        "clf.fit(df, y)\n",
        "print(f'RandomForest, {time.time()-t0:.3f} seconds training.') \n",
        "\n",
        "scores = cross_val_score(clf, df, y, cv=5)\n",
        "print(scores)\n",
        "print(f\"Accuracy: {scores.mean():0.2f} (+/- {scores.std() * 2:0.5f})\")"
      ],
      "execution_count": 14,
      "outputs": [
        {
          "output_type": "stream",
          "text": [
            "RandomForest, 6.258 seconds training.\n",
            "[0.84776119 0.84400221 0.85461581 0.84663866 0.84120314]\n",
            "Accuracy: 0.85 (+/- 0.00900)\n"
          ],
          "name": "stdout"
        }
      ]
    },
    {
      "cell_type": "markdown",
      "metadata": {
        "id": "U-WZI0lT6N7m",
        "colab_type": "text"
      },
      "source": [
        "## 3.3  Testing new samples"
      ]
    },
    {
      "cell_type": "code",
      "metadata": {
        "id": "DsYAMMcL_UR0",
        "colab_type": "code",
        "cellView": "code",
        "outputId": "5ec90470-60dd-42db-ba35-aff5cef757af",
        "colab": {
          "base_uri": "https://localhost:8080/",
          "height": 190
        }
      },
      "source": [
        "df = pd.read_csv('census.csv', header=0)\n",
        "\n",
        "for col in string_cols:\n",
        "    print(f'{col}= \"\" #@param {list(df[col].unique())}')"
      ],
      "execution_count": 15,
      "outputs": [
        {
          "output_type": "stream",
          "text": [
            "workclass= \"\" #@param [' State-gov', ' Self-emp-not-inc', ' Private', ' Federal-gov', ' Local-gov', ' Self-emp-inc', ' Without-pay']\n",
            "education_level= \"\" #@param [' Bachelors', ' HS-grad', ' 11th', ' Masters', ' 9th', ' Some-college', ' Assoc-acdm', ' 7th-8th', ' Doctorate', ' Assoc-voc', ' Prof-school', ' 5th-6th', ' 10th', ' Preschool', ' 12th', ' 1st-4th']\n",
            "marital_status= \"\" #@param [' Never-married', ' Married-civ-spouse', ' Divorced', ' Married-spouse-absent', ' Separated', ' Married-AF-spouse', ' Widowed']\n",
            "occupation= \"\" #@param [' Adm-clerical', ' Exec-managerial', ' Handlers-cleaners', ' Prof-specialty', ' Other-service', ' Sales', ' Transport-moving', ' Farming-fishing', ' Machine-op-inspct', ' Tech-support', ' Craft-repair', ' Protective-serv', ' Armed-Forces', ' Priv-house-serv']\n",
            "relationship= \"\" #@param [' Not-in-family', ' Husband', ' Wife', ' Own-child', ' Unmarried', ' Other-relative']\n",
            "race= \"\" #@param [' White', ' Black', ' Asian-Pac-Islander', ' Amer-Indian-Eskimo', ' Other']\n",
            "sex= \"\" #@param [' Male', ' Female']\n",
            "native_country= \"\" #@param [' United-States', ' Cuba', ' Jamaica', ' India', ' Mexico', ' Puerto-Rico', ' Honduras', ' England', ' Canada', ' Germany', ' Iran', ' Philippines', ' Poland', ' Columbia', ' Cambodia', ' Thailand', ' Ecuador', ' Laos', ' Taiwan', ' Haiti', ' Portugal', ' Dominican-Republic', ' El-Salvador', ' France', ' Guatemala', ' Italy', ' China', ' South', ' Japan', ' Yugoslavia', ' Peru', ' Outlying-US(Guam-USVI-etc)', ' Scotland', ' Trinadad&Tobago', ' Greece', ' Nicaragua', ' Vietnam', ' Hong', ' Ireland', ' Hungary', ' Holand-Netherlands']\n",
            "income= \"\" #@param ['<=50K', '>50K']\n"
          ],
          "name": "stdout"
        }
      ]
    },
    {
      "cell_type": "code",
      "metadata": {
        "id": "Yd1NLnEV7Ht_",
        "colab_type": "code",
        "cellView": "both",
        "outputId": "010526b4-a2a1-45bf-9f8b-c3c4db855d16",
        "colab": {
          "base_uri": "https://localhost:8080/",
          "height": 194
        }
      },
      "source": [
        "from IPython.display import display, HTML\n",
        "\n",
        "age = 39 #@param {type:\"slider\", min:18, max:70, step:1}\n",
        "workclass= \" State-gov\" #@param [' State-gov', ' Self-emp-not-inc', ' Private', ' Federal-gov', ' Local-gov', ' Self-emp-inc', ' Without-pay']\n",
        "education_level= \" Masters\" #@param [' Bachelors', ' HS-grad', ' 11th', ' Masters', ' 9th', ' Some-college', ' Assoc-acdm', ' 7th-8th', ' Doctorate', ' Assoc-voc', ' Prof-school', ' 5th-6th', ' 10th', ' Preschool', ' 12th', ' 1st-4th']\n",
        "education_num = 13 #@param {type:\"number\"}\n",
        "marital_status= \" Never-married\" #@param [' Never-married', ' Married-civ-spouse', ' Divorced', ' Married-spouse-absent', ' Separated', ' Married-AF-spouse', ' Widowed']\n",
        "occupation= \" Adm-clerical\" #@param [' Adm-clerical', ' Exec-managerial', ' Handlers-cleaners', ' Prof-specialty', ' Other-service', ' Sales', ' Transport-moving', ' Farming-fishing', ' Machine-op-inspct', ' Tech-support', ' Craft-repair', ' Protective-serv', ' Armed-Forces', ' Priv-house-serv']\n",
        "relationship= \" Not-in-family\" #@param [' Not-in-family', ' Husband', ' Wife', ' Own-child', ' Unmarried', ' Other-relative']\n",
        "race= \" White\" #@param [' White', ' Black', ' Asian-Pac-Islander', ' Amer-Indian-Eskimo', ' Other']\n",
        "sex= \" Male\" #@param [' Male', ' Female']\n",
        "capital_gain = 9741 #@param {type:\"slider\", min:0, max:20000, step:1}\n",
        "capital_loss = 1861 #@param {type:\"slider\", min:0, max:10000, step:1}\n",
        "hours_per_week = 40 #@param {type:\"slider\", min:1, max:100, step:1}\n",
        "native_country= \" United-States\" #@param [' United-States', ' Cuba', ' Jamaica', ' India', ' Mexico', ' Puerto-Rico', ' Honduras', ' England', ' Canada', ' Germany', ' Iran', ' Philippines', ' Poland', ' Columbia', ' Cambodia', ' Thailand', ' Ecuador', ' Laos', ' Taiwan', ' Haiti', ' Portugal', ' Dominican-Republic', ' El-Salvador', ' France', ' Guatemala', ' Italy', ' China', ' South', ' Japan', ' Yugoslavia', ' Peru', ' Outlying-US(Guam-USVI-etc)', ' Scotland', ' Trinadad&Tobago', ' Greece', ' Nicaragua', ' Vietnam', ' Hong', ' Ireland', ' Hungary', ' Holand-Netherlands']\n",
        "income = None\n",
        "\n",
        "# encode user inputs\n",
        "for key in encoders.keys():\n",
        "  if key is not 'income':\n",
        "    globals()[key] = encoders[key].transform([globals()[key]])[0]\n",
        "\n",
        "# get a prediction\n",
        "res = clf.predict([[age, workclass, education_level, education_num,\n",
        "                    marital_status, occupation, relationship, race,\n",
        "                    sex, capital_gain, capital_loss,\n",
        "                    hours_per_week, native_country]])\n",
        "res = encoders['income'].inverse_transform(res)[0]\n",
        "\n",
        "# print results\n",
        "html = f\"\"\"\n",
        "  <div style=\"padding: 3em; text-align: center;\">\n",
        "    <h3>More than USD$50K a year?</h3>\n",
        "    <h1>{'... No' if res == '<=50K' else 'YES!!'}</h1>\n",
        "  </div>\"\"\"\n",
        "display(HTML(html))\n",
        "\n"
      ],
      "execution_count": 17,
      "outputs": [
        {
          "output_type": "display_data",
          "data": {
            "text/html": [
              "\n",
              "  <div style=\"padding: 3em; text-align: center;\">\n",
              "    <h3>More than USD$50K a year?</h3>\n",
              "    <h1>YES!!</h1>\n",
              "  </div>"
            ],
            "text/plain": [
              "<IPython.core.display.HTML object>"
            ]
          },
          "metadata": {
            "tags": []
          }
        }
      ]
    }
  ]
}