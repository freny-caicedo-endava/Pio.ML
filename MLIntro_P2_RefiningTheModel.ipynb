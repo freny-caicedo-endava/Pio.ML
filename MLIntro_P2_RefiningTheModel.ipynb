{
  "nbformat": 4,
  "nbformat_minor": 0,
  "metadata": {
    "colab": {
      "name": "MLIntro_P2_RefiningTheModel.ipynb",
      "version": "0.3.2",
      "provenance": [],
      "collapsed_sections": [
        "Xx_MSuJWCbzo",
        "KhAlVRy5bURe",
        "W-yemSvTD2JF",
        "4ZFDf8CCTV4G"
      ],
      "toc_visible": true,
      "include_colab_link": true
    },
    "kernelspec": {
      "name": "python3",
      "display_name": "Python 3"
    }
  },
  "cells": [
    {
      "cell_type": "markdown",
      "metadata": {
        "id": "view-in-github",
        "colab_type": "text"
      },
      "source": [
        "<a href=\"https://colab.research.google.com/github/freny-caicedo-endava/Pio.ML/blob/master/MLIntro_P2_RefiningTheModel.ipynb\" target=\"_parent\"><img src=\"https://colab.research.google.com/assets/colab-badge.svg\" alt=\"Open In Colab\"/></a>"
      ]
    },
    {
      "cell_type": "markdown",
      "metadata": {
        "id": "8jZ42_XB0Tup",
        "colab_type": "text"
      },
      "source": [
        "\n",
        "> ![answer](https://drive.google.com/uc?export=view&id=1yj7jPO0w4Ayq1OxkpflWOE-BBdMd_O4k)\n",
        "\n",
        "## Introduction to Machine Learning\n",
        "###PART TWO: Refining the model "
      ]
    },
    {
      "cell_type": "markdown",
      "metadata": {
        "id": "9tOReNZ5GM2x",
        "colab_type": "text"
      },
      "source": [
        "# 1.  EVALUATION METRICS"
      ]
    },
    {
      "cell_type": "markdown",
      "metadata": {
        "id": "6keUV-ShYsht",
        "colab_type": "text"
      },
      "source": [
        "**Confusion Matrix** is a performance measurement for machine learning classification problem, it is relatively simple to understand, but the related terminology can be confusing.\n",
        "\n",
        "> ![answer](https://drive.google.com/uc?export=view&id=1nbipIp7_oIEFQzkuf9o9F4bB_9W2L9rc)\n",
        "\n",
        "> ![answer](https://drive.google.com/uc?export=view&id=1Euhh_mSTMZwdyuanrFeDd4OeGgBRbFZn)\n",
        "\n",
        "\n",
        "\n",
        "\n",
        "\n"
      ]
    },
    {
      "cell_type": "code",
      "metadata": {
        "id": "OcrAB7_sQDcc",
        "colab_type": "code",
        "outputId": "630d3f5a-4e9e-4255-c7fd-52e08071f9c2",
        "colab": {
          "base_uri": "https://localhost:8080/",
          "height": 51
        }
      },
      "source": [
        "from sklearn.metrics import confusion_matrix\n",
        "\n",
        "y_true = [1, 1, 0, 1, 0, 0, 1]\n",
        "y_pred = [1, 0, 0, 1, 0, 0, 1]\n",
        "\n",
        "confusion_matrix(y_true, y_pred)"
      ],
      "execution_count": 0,
      "outputs": [
        {
          "output_type": "execute_result",
          "data": {
            "text/plain": [
              "array([[3, 0],\n",
              "       [1, 3]])"
            ]
          },
          "metadata": {
            "tags": []
          },
          "execution_count": 21
        }
      ]
    },
    {
      "cell_type": "markdown",
      "metadata": {
        "id": "dH1e9oAblw2I",
        "colab_type": "text"
      },
      "source": [
        "**Accuracy:** Overall, how often is the classifier correct? When it predicts yes, how often is it correct?\n",
        "\n",
        "(TP+TN)/total \n",
        "\n",
        "**Precision:** When it predicts the positive result, how often is it correct?\n",
        "Fraction of positive predictions that are actually positive\n",
        "\n",
        "TP/(TP+FP)\n",
        "\n",
        "**Recall:** When it is actually the positive result, how often does it predict correctly?\n",
        "\n",
        "How much of actual positive data  was predicted to be positive.\n",
        "\n",
        "TP/(TP+FN)\n",
        "\n",
        "> ![answer](https://drive.google.com/uc?export=view&id=1jPebdA_bJKgq9vFuQhpA8sbF-v8LoMKT)\n",
        "\n",
        "\n",
        "---\n",
        "\n",
        "*When Is Precision more important?*\n",
        "\n",
        "Youtube recommendations, should it reccomend a product?\n",
        "\n",
        "FP: bad user experience!\n",
        "\n",
        "FN: not a big problem\n",
        "\n",
        "---\n",
        "\n",
        "*When Is Recall more important?*\n",
        "\n",
        "Lung Carcer Warning from x-ray\n",
        "\n",
        "FP: not a big problem\n",
        "\n",
        "FN: person loses chance to live!!!\n",
        "\n",
        "So, precision is important to avoid false positives.\n",
        "And recall is important to avoid false negatives.\n",
        "\n",
        "---\n",
        "\n",
        "\n",
        "**F1 Scores:** is the harmonic average of the precision and recall.\n",
        "\n",
        "Harmonic mean is a kind of average where result is closer to the lower number, so F1 score is colest to the smallest between Precision and Recall."
      ]
    },
    {
      "cell_type": "code",
      "metadata": {
        "id": "3hPptXkO820-",
        "colab_type": "code",
        "colab": {
          "base_uri": "https://localhost:8080/",
          "height": 34
        },
        "outputId": "d0a4c3c2-8c6a-445b-f7b2-6346f9c0ca2f"
      },
      "source": [
        "import statistics as s\n",
        "\n",
        "values = [0.1, 0.8]\n",
        "\n",
        "s.harmonic_mean(values)"
      ],
      "execution_count": 83,
      "outputs": [
        {
          "output_type": "execute_result",
          "data": {
            "text/plain": [
              "0.17777777777777778"
            ]
          },
          "metadata": {
            "tags": []
          },
          "execution_count": 83
        }
      ]
    },
    {
      "cell_type": "markdown",
      "metadata": {
        "id": "dGT6LZkA9jmU",
        "colab_type": "text"
      },
      "source": [
        "Note that F1 score gives equal importance to precision and recall.\n",
        "\n",
        "**F-Beta score:** is the weighted harmonic mean of precision and recall.\n",
        "\n",
        "The beta parameter determines the weight of recall in the combined score. \n",
        "\n",
        "*   *beta < 1* lends more weight to precision\n",
        "*   *beta > 1* favors recall\n",
        "*   *beta = 1* is just harmonic mean"
      ]
    },
    {
      "cell_type": "code",
      "metadata": {
        "id": "XIcpsMW2hb7n",
        "colab_type": "code",
        "outputId": "39db9aa4-d7e4-409b-e9d4-b6896eecbad3",
        "colab": {
          "base_uri": "https://localhost:8080/",
          "height": 102
        }
      },
      "source": [
        "from sklearn.metrics import accuracy_score, precision_score, recall_score, fbeta_score\n",
        "\n",
        "y_true = [1, 1, 0, 1, 0, 0, 1]\n",
        "y_pred = [1, 0, 0, 0, 0, 0, 0]\n",
        "\n",
        "print(f'Accuracy: {accuracy_score(y_true, y_pred):.3f}')\n",
        "print(f'Precision: {precision_score(y_true, y_pred)}')\n",
        "print(f'Recall: {recall_score(y_true, y_pred)}')\n",
        "\n",
        "print(f'HM {s.harmonic_mean([0.25, 1])}')\n",
        "fbeta_score(y_true, y_pred, 999)"
      ],
      "execution_count": 18,
      "outputs": [
        {
          "output_type": "stream",
          "text": [
            "Accuracy: 0.571\n",
            "Precision: 1.0\n",
            "Recall: 0.25\n",
            "HM 0.4\n"
          ],
          "name": "stdout"
        },
        {
          "output_type": "execute_result",
          "data": {
            "text/plain": [
              "0.2500001878755162"
            ]
          },
          "metadata": {
            "tags": []
          },
          "execution_count": 18
        }
      ]
    },
    {
      "cell_type": "markdown",
      "metadata": {
        "id": "Xx_MSuJWCbzo",
        "colab_type": "text"
      },
      "source": [
        "# 2.  DETECTING ERRORS"
      ]
    },
    {
      "cell_type": "markdown",
      "metadata": {
        "id": "LEeZIahZC661",
        "colab_type": "text"
      },
      "source": [
        "## 2.1 TYPES OF ERRORS "
      ]
    },
    {
      "cell_type": "markdown",
      "metadata": {
        "id": "VnAhCxAcS05M",
        "colab_type": "text"
      },
      "source": [
        "**UNDERFITTING**\n",
        "\n",
        "Does not do well on the training set.\n",
        "Error due to bias.\n",
        "\n",
        "**OVERFITTING**\n",
        "\n",
        "Does well on the training set, but it tends to memorize it instead of learning the characteristics of it.\n",
        "Error due to variance.\n",
        "\n",
        "\n",
        "> ![answer](https://drive.google.com/uc?export=view&id=1psGrlora0dAitbFqKYnHWpAoKLrieW7V)"
      ]
    },
    {
      "cell_type": "markdown",
      "metadata": {
        "id": "F8O5DqrjR9pL",
        "colab_type": "text"
      },
      "source": [
        "## 2.2 CROSS VALIDATION\n",
        "\n",
        "Cross-validation is a statistical method used to estimate the skill of machine learning models.\n",
        "\n",
        "In k-fold cross-validation, the original sample is randomly partitioned into k equal sized subsamples. Of the k subsamples, a single subsample is retained as the validation data for testing the model, and the remaining k − 1 subsamples are used as training data. \n",
        "\n",
        "The cross-validation process is then repeated k times, with each of the k subsamples used exactly once as the validation data. The k results can then be averaged to produce a single estimation.\n",
        "\n",
        "Very useful when we have few data.\n",
        "\n",
        "> ![answer](https://drive.google.com/uc?export=view&id=1t_V8pJo000_ybbohxeuHqZlnrjz-RsPi)\n",
        "\n"
      ]
    },
    {
      "cell_type": "markdown",
      "metadata": {
        "id": "KhAlVRy5bURe",
        "colab_type": "text"
      },
      "source": [
        "# 3. DATA PRE-PROCESSING"
      ]
    },
    {
      "cell_type": "markdown",
      "metadata": {
        "id": "sskvJ8gYXVOp",
        "colab_type": "text"
      },
      "source": [
        "## 3.1 Handling Null Values"
      ]
    },
    {
      "cell_type": "code",
      "metadata": {
        "id": "zzM6ZiC2e5Gr",
        "colab_type": "code",
        "outputId": "1b60ddf8-75ad-4156-af4b-0c07976ff683",
        "colab": {
          "base_uri": "https://localhost:8080/",
          "height": 102
        }
      },
      "source": [
        "import pandas as pd\n",
        "from io import StringIO\n",
        "\n",
        "csv_data = \\\n",
        "'''\n",
        "A,B,C,D\n",
        "1.0,2.0,3.0,4.0\n",
        "5.0,6.0,,8.0\n",
        "9.0,10.0,11.0,\n",
        "'''\n",
        "\n",
        "df = pd.read_csv(StringIO(csv_data))\n",
        "\n",
        "df\n",
        "df.isnull()\n",
        "df.isnull().sum()"
      ],
      "execution_count": 12,
      "outputs": [
        {
          "output_type": "execute_result",
          "data": {
            "text/plain": [
              "A    0\n",
              "B    0\n",
              "C    1\n",
              "D    1\n",
              "dtype: int64"
            ]
          },
          "metadata": {
            "tags": []
          },
          "execution_count": 12
        }
      ]
    },
    {
      "cell_type": "code",
      "metadata": {
        "id": "KgLIcL_B9JR_",
        "colab_type": "code",
        "colab": {}
      },
      "source": [
        ""
      ],
      "execution_count": 0,
      "outputs": []
    },
    {
      "cell_type": "markdown",
      "metadata": {
        "id": "hKi9oiiSIx2_",
        "colab_type": "text"
      },
      "source": [
        "**How to fix it?**"
      ]
    },
    {
      "cell_type": "code",
      "metadata": {
        "id": "_fPkid-nJC9N",
        "colab_type": "code",
        "outputId": "cd2b4a87-d1f3-4341-f3a8-a614306fbcd9",
        "colab": {
          "base_uri": "https://localhost:8080/",
          "height": 196
        }
      },
      "source": [
        "from sklearn.preprocessing import Imputer\n",
        "\n",
        "imputer = Imputer(missing_values='NaN' , strategy='mean')\n",
        "\n",
        "df[['C','D']] = imputer.fit_transform(df[['C','D']])\n",
        "\n",
        "df"
      ],
      "execution_count": 0,
      "outputs": [
        {
          "output_type": "stream",
          "text": [
            "/usr/local/lib/python3.6/dist-packages/sklearn/utils/deprecation.py:66: DeprecationWarning: Class Imputer is deprecated; Imputer was deprecated in version 0.20 and will be removed in 0.22. Import impute.SimpleImputer from sklearn instead.\n",
            "  warnings.warn(msg, category=DeprecationWarning)\n"
          ],
          "name": "stderr"
        },
        {
          "output_type": "execute_result",
          "data": {
            "text/html": [
              "<div>\n",
              "<style scoped>\n",
              "    .dataframe tbody tr th:only-of-type {\n",
              "        vertical-align: middle;\n",
              "    }\n",
              "\n",
              "    .dataframe tbody tr th {\n",
              "        vertical-align: top;\n",
              "    }\n",
              "\n",
              "    .dataframe thead th {\n",
              "        text-align: right;\n",
              "    }\n",
              "</style>\n",
              "<table border=\"1\" class=\"dataframe\">\n",
              "  <thead>\n",
              "    <tr style=\"text-align: right;\">\n",
              "      <th></th>\n",
              "      <th>A</th>\n",
              "      <th>B</th>\n",
              "      <th>C</th>\n",
              "      <th>D</th>\n",
              "    </tr>\n",
              "  </thead>\n",
              "  <tbody>\n",
              "    <tr>\n",
              "      <th>0</th>\n",
              "      <td>1.0</td>\n",
              "      <td>2.0</td>\n",
              "      <td>3.0</td>\n",
              "      <td>4.0</td>\n",
              "    </tr>\n",
              "    <tr>\n",
              "      <th>1</th>\n",
              "      <td>5.0</td>\n",
              "      <td>6.0</td>\n",
              "      <td>7.0</td>\n",
              "      <td>8.0</td>\n",
              "    </tr>\n",
              "    <tr>\n",
              "      <th>2</th>\n",
              "      <td>9.0</td>\n",
              "      <td>10.0</td>\n",
              "      <td>11.0</td>\n",
              "      <td>6.0</td>\n",
              "    </tr>\n",
              "  </tbody>\n",
              "</table>\n",
              "</div>"
            ],
            "text/plain": [
              "     A     B     C    D\n",
              "0  1.0   2.0   3.0  4.0\n",
              "1  5.0   6.0   7.0  8.0\n",
              "2  9.0  10.0  11.0  6.0"
            ]
          },
          "metadata": {
            "tags": []
          },
          "execution_count": 7
        }
      ]
    },
    {
      "cell_type": "markdown",
      "metadata": {
        "id": "Ryzq34mPykld",
        "colab_type": "text"
      },
      "source": [
        "## 3.2 Standardization "
      ]
    },
    {
      "cell_type": "markdown",
      "metadata": {
        "id": "3YsKTl9fJ92b",
        "colab_type": "text"
      },
      "source": [
        "In Standardization we transform our values such that the mean of the values is 0 and the standard deviation is 1.\n",
        "\n",
        "![answer](https://drive.google.com/uc?export=view&id=1lNdkOnerB69nZ5IpgeKDY8Ci-63-O9Du)\n",
        "\n",
        "![answer](https://drive.google.com/uc?export=view&id=1uw9iuGjtipnNYZ7Rctha2s39KDnjh2Ys)"
      ]
    },
    {
      "cell_type": "code",
      "metadata": {
        "id": "apdoVkGONKC8",
        "colab_type": "code",
        "outputId": "7dda07c4-f283-4467-e011-71285dc02b30",
        "colab": {
          "base_uri": "https://localhost:8080/",
          "height": 759
        }
      },
      "source": [
        "\n",
        "from sklearn.preprocessing import StandardScaler\n",
        "from matplotlib import pyplot as plt\n",
        "import numpy as np\n",
        "\n",
        "csv_data = \\\n",
        "'''\n",
        "Country,Age,Salary\n",
        "Colombia,44.0,72000.0\n",
        "Spain,27.0,48000.0\n",
        "Germany,30.0,54000.0\n",
        "Colombia,38.0,61000.0\n",
        "Germany,70.0,63000.0\n",
        "'''\n",
        "\n",
        "df = pd.read_csv(StringIO(csv_data))\n",
        "print(df, end='\\n\\n')\n",
        "\n",
        "plt.hist(df['Salary'], 10, facecolor='blue')\n",
        "plt.show()\n",
        "\n",
        "df[['Age','Salary']] = StandardScaler().fit_transform(df[['Age','Salary']])\n",
        "print(df, end='\\n\\n')\n",
        "\n",
        "plt.hist(df['Salary'], 10, facecolor='green')\n",
        "plt.show()\n"
      ],
      "execution_count": 28,
      "outputs": [
        {
          "output_type": "stream",
          "text": [
            "    Country   Age   Salary\n",
            "0  Colombia  44.0  72000.0\n",
            "1     Spain  27.0  48000.0\n",
            "2   Germany  30.0  54000.0\n",
            "3  Colombia  38.0  61000.0\n",
            "4   Germany  70.0  63000.0\n",
            "\n"
          ],
          "name": "stdout"
        },
        {
          "output_type": "display_data",
          "data": {
            "image/png": "[encoded data removed]",
            "text/plain": [
              "<Figure size 432x288 with 1 Axes>"
            ]
          },
          "metadata": {
            "tags": []
          }
        },
        {
          "output_type": "stream",
          "text": [
            "    Country       Age    Salary\n",
            "0  Colombia  0.143647  1.518987\n",
            "1     Spain -0.966351 -1.420988\n",
            "2   Germany -0.770469 -0.685994\n",
            "3  Colombia -0.248117  0.171499\n",
            "4   Germany  1.841290  0.416497\n",
            "\n"
          ],
          "name": "stdout"
        },
        {
          "output_type": "display_data",
          "data": {
            "image/png": "[encoded data removed]",
            "text/plain": [
              "<Figure size 432x288 with 1 Axes>"
            ]
          },
          "metadata": {
            "tags": []
          }
        }
      ]
    },
    {
      "cell_type": "markdown",
      "metadata": {
        "id": "Hvj73CJ-XeRI",
        "colab_type": "text"
      },
      "source": [
        "## 3.3 Handling Categorical Variables\n",
        "\n",
        "Categorical variables are basically the variables that are discrete and not continuous, they are further divided into 2 types and we need to preprocess them differently.\n"
      ]
    },
    {
      "cell_type": "markdown",
      "metadata": {
        "id": "CyanMYdtzA1l",
        "colab_type": "text"
      },
      "source": [
        "### 3.3.1 ORDINAL\n",
        "\n",
        "Can be ordered, e.g.  size of a T-shirt, we can say that M<L<XL."
      ]
    },
    {
      "cell_type": "code",
      "metadata": {
        "id": "GsM1rS6_gpPT",
        "colab_type": "code",
        "outputId": "4bf2bc22-2114-4283-c33b-e683bfac6114",
        "colab": {
          "base_uri": "https://localhost:8080/",
          "height": 173
        }
      },
      "source": [
        "df_cat = pd.DataFrame(data = \n",
        "                     [['green','M'],\n",
        "                      ['blue','L'],\n",
        "                      ['green','S'],\n",
        "                      ['white','M']])\n",
        "df_cat.columns = ['color','size']\n",
        "\n",
        "df_cat"
      ],
      "execution_count": 0,
      "outputs": [
        {
          "output_type": "execute_result",
          "data": {
            "text/html": [
              "<div>\n",
              "<style scoped>\n",
              "    .dataframe tbody tr th:only-of-type {\n",
              "        vertical-align: middle;\n",
              "    }\n",
              "\n",
              "    .dataframe tbody tr th {\n",
              "        vertical-align: top;\n",
              "    }\n",
              "\n",
              "    .dataframe thead th {\n",
              "        text-align: right;\n",
              "    }\n",
              "</style>\n",
              "<table border=\"1\" class=\"dataframe\">\n",
              "  <thead>\n",
              "    <tr style=\"text-align: right;\">\n",
              "      <th></th>\n",
              "      <th>color</th>\n",
              "      <th>size</th>\n",
              "    </tr>\n",
              "  </thead>\n",
              "  <tbody>\n",
              "    <tr>\n",
              "      <th>0</th>\n",
              "      <td>green</td>\n",
              "      <td>M</td>\n",
              "    </tr>\n",
              "    <tr>\n",
              "      <th>1</th>\n",
              "      <td>blue</td>\n",
              "      <td>L</td>\n",
              "    </tr>\n",
              "    <tr>\n",
              "      <th>2</th>\n",
              "      <td>green</td>\n",
              "      <td>S</td>\n",
              "    </tr>\n",
              "    <tr>\n",
              "      <th>3</th>\n",
              "      <td>white</td>\n",
              "      <td>M</td>\n",
              "    </tr>\n",
              "  </tbody>\n",
              "</table>\n",
              "</div>"
            ],
            "text/plain": [
              "   color size\n",
              "0  green    M\n",
              "1   blue    L\n",
              "2  green    S\n",
              "3  white    M"
            ]
          },
          "metadata": {
            "tags": []
          },
          "execution_count": 36
        }
      ]
    },
    {
      "cell_type": "code",
      "metadata": {
        "id": "_1WZ9PnInwlA",
        "colab_type": "code",
        "outputId": "707d437a-267e-4328-b48f-97d1ad82bbe0",
        "colab": {
          "base_uri": "https://localhost:8080/",
          "height": 173
        }
      },
      "source": [
        "size_mapping = {'S': 0,'M':1,'L':2}\n",
        "df_cat['size'] = df_cat['size'].map(size_mapping)\n",
        "\n",
        "df_cat"
      ],
      "execution_count": 0,
      "outputs": [
        {
          "output_type": "execute_result",
          "data": {
            "text/html": [
              "<div>\n",
              "<style scoped>\n",
              "    .dataframe tbody tr th:only-of-type {\n",
              "        vertical-align: middle;\n",
              "    }\n",
              "\n",
              "    .dataframe tbody tr th {\n",
              "        vertical-align: top;\n",
              "    }\n",
              "\n",
              "    .dataframe thead th {\n",
              "        text-align: right;\n",
              "    }\n",
              "</style>\n",
              "<table border=\"1\" class=\"dataframe\">\n",
              "  <thead>\n",
              "    <tr style=\"text-align: right;\">\n",
              "      <th></th>\n",
              "      <th>color</th>\n",
              "      <th>size</th>\n",
              "    </tr>\n",
              "  </thead>\n",
              "  <tbody>\n",
              "    <tr>\n",
              "      <th>0</th>\n",
              "      <td>1</td>\n",
              "      <td>1</td>\n",
              "    </tr>\n",
              "    <tr>\n",
              "      <th>1</th>\n",
              "      <td>0</td>\n",
              "      <td>2</td>\n",
              "    </tr>\n",
              "    <tr>\n",
              "      <th>2</th>\n",
              "      <td>1</td>\n",
              "      <td>0</td>\n",
              "    </tr>\n",
              "    <tr>\n",
              "      <th>3</th>\n",
              "      <td>2</td>\n",
              "      <td>1</td>\n",
              "    </tr>\n",
              "  </tbody>\n",
              "</table>\n",
              "</div>"
            ],
            "text/plain": [
              "   color  size\n",
              "0      1     1\n",
              "1      0     2\n",
              "2      1     0\n",
              "3      2     1"
            ]
          },
          "metadata": {
            "tags": []
          },
          "execution_count": 23
        }
      ]
    },
    {
      "cell_type": "markdown",
      "metadata": {
        "id": "z180TCzwzHa1",
        "colab_type": "text"
      },
      "source": [
        "### 3.3.2 NOMINAL\n",
        "\n",
        "Can’t be ordered., e.g. color of a T-shirt., we can’t say that Blue < Green."
      ]
    },
    {
      "cell_type": "markdown",
      "metadata": {
        "id": "d_HjkBW3vDyJ",
        "colab_type": "text"
      },
      "source": [
        "**Label Encoder**\n",
        "\n",
        "Encode labels with value between 0 and n_classes-1."
      ]
    },
    {
      "cell_type": "code",
      "metadata": {
        "id": "gUUYWneXhB6t",
        "colab_type": "code",
        "outputId": "7bcb00ad-f431-4beb-abb1-d3b43375c366",
        "colab": {
          "base_uri": "https://localhost:8080/",
          "height": 173
        }
      },
      "source": [
        "from sklearn.preprocessing import LabelEncoder\n",
        "\n",
        "class_le = LabelEncoder()\n",
        "df_cat['color'] = class_le.fit_transform(df_cat['color'].values)\n",
        "\n",
        "df_cat"
      ],
      "execution_count": 0,
      "outputs": [
        {
          "output_type": "execute_result",
          "data": {
            "text/html": [
              "<div>\n",
              "<style scoped>\n",
              "    .dataframe tbody tr th:only-of-type {\n",
              "        vertical-align: middle;\n",
              "    }\n",
              "\n",
              "    .dataframe tbody tr th {\n",
              "        vertical-align: top;\n",
              "    }\n",
              "\n",
              "    .dataframe thead th {\n",
              "        text-align: right;\n",
              "    }\n",
              "</style>\n",
              "<table border=\"1\" class=\"dataframe\">\n",
              "  <thead>\n",
              "    <tr style=\"text-align: right;\">\n",
              "      <th></th>\n",
              "      <th>color</th>\n",
              "      <th>size</th>\n",
              "    </tr>\n",
              "  </thead>\n",
              "  <tbody>\n",
              "    <tr>\n",
              "      <th>0</th>\n",
              "      <td>1</td>\n",
              "      <td>1</td>\n",
              "    </tr>\n",
              "    <tr>\n",
              "      <th>1</th>\n",
              "      <td>0</td>\n",
              "      <td>2</td>\n",
              "    </tr>\n",
              "    <tr>\n",
              "      <th>2</th>\n",
              "      <td>1</td>\n",
              "      <td>0</td>\n",
              "    </tr>\n",
              "    <tr>\n",
              "      <th>3</th>\n",
              "      <td>2</td>\n",
              "      <td>1</td>\n",
              "    </tr>\n",
              "  </tbody>\n",
              "</table>\n",
              "</div>"
            ],
            "text/plain": [
              "   color  size\n",
              "0      1     1\n",
              "1      0     2\n",
              "2      1     0\n",
              "3      2     1"
            ]
          },
          "metadata": {
            "tags": []
          },
          "execution_count": 25
        }
      ]
    },
    {
      "cell_type": "markdown",
      "metadata": {
        "id": "oyP_Gu2Ih4H-",
        "colab_type": "text"
      },
      "source": [
        "\n",
        "**One-Hot Encoding**\n",
        "\n",
        "This method creates *n* columns where *n* is the number of unique values that the nominal variable can take, for each encoded value only one column have value = 1 and the rest all will have value = 0."
      ]
    },
    {
      "cell_type": "code",
      "metadata": {
        "id": "zDpPK21YnRV_",
        "colab_type": "code",
        "outputId": "7ef8cc1a-92b7-4b0d-acf3-3676984de87f",
        "colab": {
          "base_uri": "https://localhost:8080/",
          "height": 187
        }
      },
      "source": [
        "from sklearn.preprocessing import OneHotEncoder\n",
        "\n",
        "df_cat = pd.DataFrame(data = \n",
        "                      [['green'],\n",
        "                       ['blue'],\n",
        "                       ['green'],\n",
        "                       ['white']])\n",
        "df_cat.columns = ['color']\n",
        "\n",
        "print(df_cat.head(), end='\\n\\n')\n",
        "\n",
        "values = df_cat.color.values.reshape(-1,1)\n",
        "encoded = OneHotEncoder().fit_transform(values).toarray()\n",
        "\n",
        "encoded"
      ],
      "execution_count": 9,
      "outputs": [
        {
          "output_type": "stream",
          "text": [
            "   color\n",
            "0  green\n",
            "1   blue\n",
            "2  green\n",
            "3  white\n",
            "\n"
          ],
          "name": "stdout"
        },
        {
          "output_type": "execute_result",
          "data": {
            "text/plain": [
              "array([[0., 1., 0.],\n",
              "       [1., 0., 0.],\n",
              "       [0., 1., 0.],\n",
              "       [0., 0., 1.]])"
            ]
          },
          "metadata": {
            "tags": []
          },
          "execution_count": 9
        }
      ]
    },
    {
      "cell_type": "markdown",
      "metadata": {
        "id": "W-yemSvTD2JF",
        "colab_type": "text"
      },
      "source": [
        "# 4. TUNNING"
      ]
    },
    {
      "cell_type": "markdown",
      "metadata": {
        "id": "Q0dbrMa3znVv",
        "colab_type": "text"
      },
      "source": [
        "## 4.1 LOSS FUNCTION\n",
        "\n",
        "It’s a method of evaluating how well specific algorithm models the given data. If predictions deviates too much from actual results, the result will output a large number. \n",
        "\n",
        "A basic loss function will simply measure the absolute difference between our prediction and the actual value and average it out across the whole dataset.\n",
        "\n",
        "In mathematical notation, it might look something like abs(y_predicted – y) \n",
        "\n",
        "\n",
        "![answer](https://drive.google.com/uc?export=view&id=1-nM2-cT6I0KMlzQLT3PSmxBTu97IcQPb)\n",
        "\n"
      ]
    },
    {
      "cell_type": "markdown",
      "metadata": {
        "id": "d-g9QEZMwtut",
        "colab_type": "text"
      },
      "source": [
        "## 4.2 HYPERPARAMETERS\n",
        "\n",
        "In machine learning, a hyperparameter is a parameter whose value is set before the learning process begins, they are not derived via training.\n",
        "\n",
        "Hyperparameter optimization finds values that yields an optimal model which minimizes a loss function on given test data.\n",
        "\n"
      ]
    },
    {
      "cell_type": "markdown",
      "metadata": {
        "id": "XgdhUvytwzrN",
        "colab_type": "text"
      },
      "source": [
        "## 4.3 BENCHMARK MODEL\n",
        "\n",
        "Benchmarking is the process of comparing your result to existing methods. \n",
        "\n",
        "You may compare to published results from another paper, for example. Or you might compare to a very simple model (a simple regression, K Nearest Neighbors). \n",
        "\n",
        "If the field is well studied, you should probably benchmark against the current published state of the art (and possibly against human performance when relevant).\n"
      ]
    },
    {
      "cell_type": "markdown",
      "metadata": {
        "id": "4ZFDf8CCTV4G",
        "colab_type": "text"
      },
      "source": [
        "# 5. REFINING PREVIOUS MODEL"
      ]
    },
    {
      "cell_type": "markdown",
      "metadata": {
        "id": "E0wLhdcmrFZz",
        "colab_type": "text"
      },
      "source": [
        "## 5.1 DATA PREPROCESSING"
      ]
    },
    {
      "cell_type": "code",
      "metadata": {
        "id": "dW-YQpjHUK97",
        "colab_type": "code",
        "outputId": "055de619-ef5b-4c73-8eaa-34628f717515",
        "colab": {
          "base_uri": "https://localhost:8080/",
          "height": 292
        }
      },
      "source": [
        "import pandas as pd\n",
        "\n",
        "# load to Pandas Dataframe and preview\n",
        "df = pd.read_csv('census.csv', header=0)\n",
        "\n",
        "df.head()"
      ],
      "execution_count": 0,
      "outputs": [
        {
          "output_type": "execute_result",
          "data": {
            "text/html": [
              "<div>\n",
              "<style scoped>\n",
              "    .dataframe tbody tr th:only-of-type {\n",
              "        vertical-align: middle;\n",
              "    }\n",
              "\n",
              "    .dataframe tbody tr th {\n",
              "        vertical-align: top;\n",
              "    }\n",
              "\n",
              "    .dataframe thead th {\n",
              "        text-align: right;\n",
              "    }\n",
              "</style>\n",
              "<table border=\"1\" class=\"dataframe\">\n",
              "  <thead>\n",
              "    <tr style=\"text-align: right;\">\n",
              "      <th></th>\n",
              "      <th>age</th>\n",
              "      <th>workclass</th>\n",
              "      <th>education_level</th>\n",
              "      <th>education_num</th>\n",
              "      <th>marital_status</th>\n",
              "      <th>occupation</th>\n",
              "      <th>relationship</th>\n",
              "      <th>race</th>\n",
              "      <th>sex</th>\n",
              "      <th>capital_gain</th>\n",
              "      <th>capital_loss</th>\n",
              "      <th>hours_per_week</th>\n",
              "      <th>native_country</th>\n",
              "      <th>income</th>\n",
              "    </tr>\n",
              "  </thead>\n",
              "  <tbody>\n",
              "    <tr>\n",
              "      <th>0</th>\n",
              "      <td>39</td>\n",
              "      <td>State-gov</td>\n",
              "      <td>Bachelors</td>\n",
              "      <td>13.0</td>\n",
              "      <td>Never-married</td>\n",
              "      <td>Adm-clerical</td>\n",
              "      <td>Not-in-family</td>\n",
              "      <td>White</td>\n",
              "      <td>Male</td>\n",
              "      <td>2174.0</td>\n",
              "      <td>0.0</td>\n",
              "      <td>40.0</td>\n",
              "      <td>United-States</td>\n",
              "      <td>&lt;=50K</td>\n",
              "    </tr>\n",
              "    <tr>\n",
              "      <th>1</th>\n",
              "      <td>50</td>\n",
              "      <td>Self-emp-not-inc</td>\n",
              "      <td>Bachelors</td>\n",
              "      <td>13.0</td>\n",
              "      <td>Married-civ-spouse</td>\n",
              "      <td>Exec-managerial</td>\n",
              "      <td>Husband</td>\n",
              "      <td>White</td>\n",
              "      <td>Male</td>\n",
              "      <td>0.0</td>\n",
              "      <td>0.0</td>\n",
              "      <td>13.0</td>\n",
              "      <td>United-States</td>\n",
              "      <td>&lt;=50K</td>\n",
              "    </tr>\n",
              "    <tr>\n",
              "      <th>2</th>\n",
              "      <td>38</td>\n",
              "      <td>Private</td>\n",
              "      <td>HS-grad</td>\n",
              "      <td>9.0</td>\n",
              "      <td>Divorced</td>\n",
              "      <td>Handlers-cleaners</td>\n",
              "      <td>Not-in-family</td>\n",
              "      <td>White</td>\n",
              "      <td>Male</td>\n",
              "      <td>0.0</td>\n",
              "      <td>0.0</td>\n",
              "      <td>40.0</td>\n",
              "      <td>United-States</td>\n",
              "      <td>&lt;=50K</td>\n",
              "    </tr>\n",
              "    <tr>\n",
              "      <th>3</th>\n",
              "      <td>53</td>\n",
              "      <td>Private</td>\n",
              "      <td>11th</td>\n",
              "      <td>7.0</td>\n",
              "      <td>Married-civ-spouse</td>\n",
              "      <td>Handlers-cleaners</td>\n",
              "      <td>Husband</td>\n",
              "      <td>Black</td>\n",
              "      <td>Male</td>\n",
              "      <td>0.0</td>\n",
              "      <td>0.0</td>\n",
              "      <td>40.0</td>\n",
              "      <td>United-States</td>\n",
              "      <td>&lt;=50K</td>\n",
              "    </tr>\n",
              "    <tr>\n",
              "      <th>4</th>\n",
              "      <td>28</td>\n",
              "      <td>Private</td>\n",
              "      <td>Bachelors</td>\n",
              "      <td>13.0</td>\n",
              "      <td>Married-civ-spouse</td>\n",
              "      <td>Prof-specialty</td>\n",
              "      <td>Wife</td>\n",
              "      <td>Black</td>\n",
              "      <td>Female</td>\n",
              "      <td>0.0</td>\n",
              "      <td>0.0</td>\n",
              "      <td>40.0</td>\n",
              "      <td>Cuba</td>\n",
              "      <td>&lt;=50K</td>\n",
              "    </tr>\n",
              "  </tbody>\n",
              "</table>\n",
              "</div>"
            ],
            "text/plain": [
              "   age          workclass  ...  native_country  income\n",
              "0   39          State-gov  ...   United-States   <=50K\n",
              "1   50   Self-emp-not-inc  ...   United-States   <=50K\n",
              "2   38            Private  ...   United-States   <=50K\n",
              "3   53            Private  ...   United-States   <=50K\n",
              "4   28            Private  ...            Cuba   <=50K\n",
              "\n",
              "[5 rows x 14 columns]"
            ]
          },
          "metadata": {
            "tags": []
          },
          "execution_count": 136
        }
      ]
    },
    {
      "cell_type": "code",
      "metadata": {
        "id": "TYIaYkSGW3Db",
        "colab_type": "code",
        "outputId": "b13f33ef-b9f0-4d85-8e77-d34d7492ea3e",
        "colab": {
          "base_uri": "https://localhost:8080/",
          "height": 292
        }
      },
      "source": [
        "from sklearn.preprocessing import LabelEncoder\n",
        "\n",
        "df['income'] = LabelEncoder().fit_transform(df['income'])\n",
        "df.head()"
      ],
      "execution_count": 0,
      "outputs": [
        {
          "output_type": "execute_result",
          "data": {
            "text/html": [
              "<div>\n",
              "<style scoped>\n",
              "    .dataframe tbody tr th:only-of-type {\n",
              "        vertical-align: middle;\n",
              "    }\n",
              "\n",
              "    .dataframe tbody tr th {\n",
              "        vertical-align: top;\n",
              "    }\n",
              "\n",
              "    .dataframe thead th {\n",
              "        text-align: right;\n",
              "    }\n",
              "</style>\n",
              "<table border=\"1\" class=\"dataframe\">\n",
              "  <thead>\n",
              "    <tr style=\"text-align: right;\">\n",
              "      <th></th>\n",
              "      <th>age</th>\n",
              "      <th>workclass</th>\n",
              "      <th>education_level</th>\n",
              "      <th>education_num</th>\n",
              "      <th>marital_status</th>\n",
              "      <th>occupation</th>\n",
              "      <th>relationship</th>\n",
              "      <th>race</th>\n",
              "      <th>sex</th>\n",
              "      <th>capital_gain</th>\n",
              "      <th>capital_loss</th>\n",
              "      <th>hours_per_week</th>\n",
              "      <th>native_country</th>\n",
              "      <th>income</th>\n",
              "    </tr>\n",
              "  </thead>\n",
              "  <tbody>\n",
              "    <tr>\n",
              "      <th>0</th>\n",
              "      <td>39</td>\n",
              "      <td>State-gov</td>\n",
              "      <td>Bachelors</td>\n",
              "      <td>13.0</td>\n",
              "      <td>Never-married</td>\n",
              "      <td>Adm-clerical</td>\n",
              "      <td>Not-in-family</td>\n",
              "      <td>White</td>\n",
              "      <td>Male</td>\n",
              "      <td>2174.0</td>\n",
              "      <td>0.0</td>\n",
              "      <td>40.0</td>\n",
              "      <td>United-States</td>\n",
              "      <td>0</td>\n",
              "    </tr>\n",
              "    <tr>\n",
              "      <th>1</th>\n",
              "      <td>50</td>\n",
              "      <td>Self-emp-not-inc</td>\n",
              "      <td>Bachelors</td>\n",
              "      <td>13.0</td>\n",
              "      <td>Married-civ-spouse</td>\n",
              "      <td>Exec-managerial</td>\n",
              "      <td>Husband</td>\n",
              "      <td>White</td>\n",
              "      <td>Male</td>\n",
              "      <td>0.0</td>\n",
              "      <td>0.0</td>\n",
              "      <td>13.0</td>\n",
              "      <td>United-States</td>\n",
              "      <td>0</td>\n",
              "    </tr>\n",
              "    <tr>\n",
              "      <th>2</th>\n",
              "      <td>38</td>\n",
              "      <td>Private</td>\n",
              "      <td>HS-grad</td>\n",
              "      <td>9.0</td>\n",
              "      <td>Divorced</td>\n",
              "      <td>Handlers-cleaners</td>\n",
              "      <td>Not-in-family</td>\n",
              "      <td>White</td>\n",
              "      <td>Male</td>\n",
              "      <td>0.0</td>\n",
              "      <td>0.0</td>\n",
              "      <td>40.0</td>\n",
              "      <td>United-States</td>\n",
              "      <td>0</td>\n",
              "    </tr>\n",
              "    <tr>\n",
              "      <th>3</th>\n",
              "      <td>53</td>\n",
              "      <td>Private</td>\n",
              "      <td>11th</td>\n",
              "      <td>7.0</td>\n",
              "      <td>Married-civ-spouse</td>\n",
              "      <td>Handlers-cleaners</td>\n",
              "      <td>Husband</td>\n",
              "      <td>Black</td>\n",
              "      <td>Male</td>\n",
              "      <td>0.0</td>\n",
              "      <td>0.0</td>\n",
              "      <td>40.0</td>\n",
              "      <td>United-States</td>\n",
              "      <td>0</td>\n",
              "    </tr>\n",
              "    <tr>\n",
              "      <th>4</th>\n",
              "      <td>28</td>\n",
              "      <td>Private</td>\n",
              "      <td>Bachelors</td>\n",
              "      <td>13.0</td>\n",
              "      <td>Married-civ-spouse</td>\n",
              "      <td>Prof-specialty</td>\n",
              "      <td>Wife</td>\n",
              "      <td>Black</td>\n",
              "      <td>Female</td>\n",
              "      <td>0.0</td>\n",
              "      <td>0.0</td>\n",
              "      <td>40.0</td>\n",
              "      <td>Cuba</td>\n",
              "      <td>0</td>\n",
              "    </tr>\n",
              "  </tbody>\n",
              "</table>\n",
              "</div>"
            ],
            "text/plain": [
              "   age          workclass  ...  native_country  income\n",
              "0   39          State-gov  ...   United-States       0\n",
              "1   50   Self-emp-not-inc  ...   United-States       0\n",
              "2   38            Private  ...   United-States       0\n",
              "3   53            Private  ...   United-States       0\n",
              "4   28            Private  ...            Cuba       0\n",
              "\n",
              "[5 rows x 14 columns]"
            ]
          },
          "metadata": {
            "tags": []
          },
          "execution_count": 137
        }
      ]
    },
    {
      "cell_type": "markdown",
      "metadata": {
        "id": "dTzYFauI3ejo",
        "colab_type": "text"
      },
      "source": [
        ""
      ]
    },
    {
      "cell_type": "code",
      "metadata": {
        "id": "B8vc1zwlpNZq",
        "colab_type": "code",
        "outputId": "99ad6569-70d0-401e-dfe7-1eaf66f8902a",
        "colab": {
          "base_uri": "https://localhost:8080/",
          "height": 119
        }
      },
      "source": [
        "y = df['income']\n",
        "df = df.drop('income', axis=1)\n",
        "\n",
        "y.head()"
      ],
      "execution_count": 0,
      "outputs": [
        {
          "output_type": "execute_result",
          "data": {
            "text/plain": [
              "0    0\n",
              "1    0\n",
              "2    0\n",
              "3    0\n",
              "4    0\n",
              "Name: income, dtype: int64"
            ]
          },
          "metadata": {
            "tags": []
          },
          "execution_count": 138
        }
      ]
    },
    {
      "cell_type": "code",
      "metadata": {
        "id": "Op0M82ybWVbM",
        "colab_type": "code",
        "outputId": "d462bfef-415e-4590-aa3b-957002dfa7fe",
        "colab": {
          "base_uri": "https://localhost:8080/",
          "height": 326
        }
      },
      "source": [
        "from sklearn.preprocessing import Imputer\n",
        "from sklearn.impute import SimpleImputer\n",
        "from sklearn.preprocessing import StandardScaler, OneHotEncoder\n",
        "\n",
        "\n",
        "# handle Null values and Normalize data in numerical columns\n",
        "\n",
        "numeric_cols = ['age', 'education_num', 'capital_gain', 'capital_loss', 'hours_per_week']\n",
        "\n",
        "imputer = Imputer(missing_values='NaN' , strategy='median')\n",
        "scaler = StandardScaler()\n",
        "\n",
        "for col_name in numeric_cols:\n",
        "    df[[col_name]] = imputer.fit_transform(df[[col_name]])\n",
        "    df[[col_name]] = StandardScaler().fit_transform(df[[col_name]])\n",
        "\n",
        "df.head()"
      ],
      "execution_count": 0,
      "outputs": [
        {
          "output_type": "stream",
          "text": [
            "/usr/local/lib/python3.6/dist-packages/sklearn/utils/deprecation.py:66: DeprecationWarning: Class Imputer is deprecated; Imputer was deprecated in version 0.20 and will be removed in 0.22. Import impute.SimpleImputer from sklearn instead.\n",
            "  warnings.warn(msg, category=DeprecationWarning)\n"
          ],
          "name": "stderr"
        },
        {
          "output_type": "execute_result",
          "data": {
            "text/html": [
              "<div>\n",
              "<style scoped>\n",
              "    .dataframe tbody tr th:only-of-type {\n",
              "        vertical-align: middle;\n",
              "    }\n",
              "\n",
              "    .dataframe tbody tr th {\n",
              "        vertical-align: top;\n",
              "    }\n",
              "\n",
              "    .dataframe thead th {\n",
              "        text-align: right;\n",
              "    }\n",
              "</style>\n",
              "<table border=\"1\" class=\"dataframe\">\n",
              "  <thead>\n",
              "    <tr style=\"text-align: right;\">\n",
              "      <th></th>\n",
              "      <th>age</th>\n",
              "      <th>workclass</th>\n",
              "      <th>education_level</th>\n",
              "      <th>education_num</th>\n",
              "      <th>marital_status</th>\n",
              "      <th>occupation</th>\n",
              "      <th>relationship</th>\n",
              "      <th>race</th>\n",
              "      <th>sex</th>\n",
              "      <th>capital_gain</th>\n",
              "      <th>capital_loss</th>\n",
              "      <th>hours_per_week</th>\n",
              "      <th>native_country</th>\n",
              "    </tr>\n",
              "  </thead>\n",
              "  <tbody>\n",
              "    <tr>\n",
              "      <th>0</th>\n",
              "      <td>0.034201</td>\n",
              "      <td>State-gov</td>\n",
              "      <td>Bachelors</td>\n",
              "      <td>1.128753</td>\n",
              "      <td>Never-married</td>\n",
              "      <td>Adm-clerical</td>\n",
              "      <td>Not-in-family</td>\n",
              "      <td>White</td>\n",
              "      <td>Male</td>\n",
              "      <td>0.142888</td>\n",
              "      <td>-0.21878</td>\n",
              "      <td>-0.078120</td>\n",
              "      <td>United-States</td>\n",
              "    </tr>\n",
              "    <tr>\n",
              "      <th>1</th>\n",
              "      <td>0.866417</td>\n",
              "      <td>Self-emp-not-inc</td>\n",
              "      <td>Bachelors</td>\n",
              "      <td>1.128753</td>\n",
              "      <td>Married-civ-spouse</td>\n",
              "      <td>Exec-managerial</td>\n",
              "      <td>Husband</td>\n",
              "      <td>White</td>\n",
              "      <td>Male</td>\n",
              "      <td>-0.146733</td>\n",
              "      <td>-0.21878</td>\n",
              "      <td>-2.326738</td>\n",
              "      <td>United-States</td>\n",
              "    </tr>\n",
              "    <tr>\n",
              "      <th>2</th>\n",
              "      <td>-0.041455</td>\n",
              "      <td>Private</td>\n",
              "      <td>HS-grad</td>\n",
              "      <td>-0.438122</td>\n",
              "      <td>Divorced</td>\n",
              "      <td>Handlers-cleaners</td>\n",
              "      <td>Not-in-family</td>\n",
              "      <td>White</td>\n",
              "      <td>Male</td>\n",
              "      <td>-0.146733</td>\n",
              "      <td>-0.21878</td>\n",
              "      <td>-0.078120</td>\n",
              "      <td>United-States</td>\n",
              "    </tr>\n",
              "    <tr>\n",
              "      <th>3</th>\n",
              "      <td>1.093385</td>\n",
              "      <td>Private</td>\n",
              "      <td>11th</td>\n",
              "      <td>-1.221559</td>\n",
              "      <td>Married-civ-spouse</td>\n",
              "      <td>Handlers-cleaners</td>\n",
              "      <td>Husband</td>\n",
              "      <td>Black</td>\n",
              "      <td>Male</td>\n",
              "      <td>-0.146733</td>\n",
              "      <td>-0.21878</td>\n",
              "      <td>-0.078120</td>\n",
              "      <td>United-States</td>\n",
              "    </tr>\n",
              "    <tr>\n",
              "      <th>4</th>\n",
              "      <td>-0.798015</td>\n",
              "      <td>Private</td>\n",
              "      <td>Bachelors</td>\n",
              "      <td>1.128753</td>\n",
              "      <td>Married-civ-spouse</td>\n",
              "      <td>Prof-specialty</td>\n",
              "      <td>Wife</td>\n",
              "      <td>Black</td>\n",
              "      <td>Female</td>\n",
              "      <td>-0.146733</td>\n",
              "      <td>-0.21878</td>\n",
              "      <td>-0.078120</td>\n",
              "      <td>Cuba</td>\n",
              "    </tr>\n",
              "  </tbody>\n",
              "</table>\n",
              "</div>"
            ],
            "text/plain": [
              "        age          workclass  ... hours_per_week  native_country\n",
              "0  0.034201          State-gov  ...      -0.078120   United-States\n",
              "1  0.866417   Self-emp-not-inc  ...      -2.326738   United-States\n",
              "2 -0.041455            Private  ...      -0.078120   United-States\n",
              "3  1.093385            Private  ...      -0.078120   United-States\n",
              "4 -0.798015            Private  ...      -0.078120            Cuba\n",
              "\n",
              "[5 rows x 13 columns]"
            ]
          },
          "metadata": {
            "tags": []
          },
          "execution_count": 139
        }
      ]
    },
    {
      "cell_type": "code",
      "metadata": {
        "id": "zsE_UgJOxWRF",
        "colab_type": "code",
        "outputId": "49443dd8-13ab-4b83-f475-8702716b6615",
        "colab": {
          "base_uri": "https://localhost:8080/",
          "height": 292
        }
      },
      "source": [
        "# Handle Null values in categorical cols\n",
        "\n",
        "categorical_cols = ['workclass', 'education_level', 'marital_status',\n",
        "                    'occupation', 'relationship', 'race', 'sex', \n",
        "                    'native_country']\n",
        "\n",
        "# Null values\n",
        "\n",
        "imputer = SimpleImputer(missing_values='missing' , strategy='constant')\n",
        "\n",
        "for col_name in categorical_cols:\n",
        "    df[[col_name]] = imputer.fit_transform(df[[col_name]])\n",
        "    \n",
        "\n",
        "# # Categorical Ordinal\n",
        "\n",
        "eduLevel_mapping = {\n",
        "    ' Preschool': 0,\n",
        "    ' Some-college':1,\n",
        "    ' 1st-4th':2,\n",
        "    ' 5th-6th':3,\n",
        "    ' 7th-8th':4,\n",
        "    ' 9th':5,\n",
        "    ' 10th':6,\n",
        "    ' 11th':7,\n",
        "    ' 12th':8,\n",
        "    ' HS-grad':9,\n",
        "    ' Bachelors':10,\n",
        "    ' Masters':11,\n",
        "    ' Prof-school':12,\n",
        "    ' Assoc-acdm':13,\n",
        "    ' Assoc-voc':14,\n",
        "    ' Doctorate':15\n",
        "}\n",
        "\n",
        "df['education_level'] = df['education_level'].map(eduLevel_mapping)\n",
        "\n",
        "\n",
        "df.head()"
      ],
      "execution_count": 0,
      "outputs": [
        {
          "output_type": "execute_result",
          "data": {
            "text/html": [
              "<div>\n",
              "<style scoped>\n",
              "    .dataframe tbody tr th:only-of-type {\n",
              "        vertical-align: middle;\n",
              "    }\n",
              "\n",
              "    .dataframe tbody tr th {\n",
              "        vertical-align: top;\n",
              "    }\n",
              "\n",
              "    .dataframe thead th {\n",
              "        text-align: right;\n",
              "    }\n",
              "</style>\n",
              "<table border=\"1\" class=\"dataframe\">\n",
              "  <thead>\n",
              "    <tr style=\"text-align: right;\">\n",
              "      <th></th>\n",
              "      <th>age</th>\n",
              "      <th>workclass</th>\n",
              "      <th>education_level</th>\n",
              "      <th>education_num</th>\n",
              "      <th>marital_status</th>\n",
              "      <th>occupation</th>\n",
              "      <th>relationship</th>\n",
              "      <th>race</th>\n",
              "      <th>sex</th>\n",
              "      <th>capital_gain</th>\n",
              "      <th>capital_loss</th>\n",
              "      <th>hours_per_week</th>\n",
              "      <th>native_country</th>\n",
              "    </tr>\n",
              "  </thead>\n",
              "  <tbody>\n",
              "    <tr>\n",
              "      <th>0</th>\n",
              "      <td>0.034201</td>\n",
              "      <td>State-gov</td>\n",
              "      <td>10</td>\n",
              "      <td>1.128753</td>\n",
              "      <td>Never-married</td>\n",
              "      <td>Adm-clerical</td>\n",
              "      <td>Not-in-family</td>\n",
              "      <td>White</td>\n",
              "      <td>Male</td>\n",
              "      <td>0.142888</td>\n",
              "      <td>-0.21878</td>\n",
              "      <td>-0.078120</td>\n",
              "      <td>United-States</td>\n",
              "    </tr>\n",
              "    <tr>\n",
              "      <th>1</th>\n",
              "      <td>0.866417</td>\n",
              "      <td>Self-emp-not-inc</td>\n",
              "      <td>10</td>\n",
              "      <td>1.128753</td>\n",
              "      <td>Married-civ-spouse</td>\n",
              "      <td>Exec-managerial</td>\n",
              "      <td>Husband</td>\n",
              "      <td>White</td>\n",
              "      <td>Male</td>\n",
              "      <td>-0.146733</td>\n",
              "      <td>-0.21878</td>\n",
              "      <td>-2.326738</td>\n",
              "      <td>United-States</td>\n",
              "    </tr>\n",
              "    <tr>\n",
              "      <th>2</th>\n",
              "      <td>-0.041455</td>\n",
              "      <td>Private</td>\n",
              "      <td>9</td>\n",
              "      <td>-0.438122</td>\n",
              "      <td>Divorced</td>\n",
              "      <td>Handlers-cleaners</td>\n",
              "      <td>Not-in-family</td>\n",
              "      <td>White</td>\n",
              "      <td>Male</td>\n",
              "      <td>-0.146733</td>\n",
              "      <td>-0.21878</td>\n",
              "      <td>-0.078120</td>\n",
              "      <td>United-States</td>\n",
              "    </tr>\n",
              "    <tr>\n",
              "      <th>3</th>\n",
              "      <td>1.093385</td>\n",
              "      <td>Private</td>\n",
              "      <td>7</td>\n",
              "      <td>-1.221559</td>\n",
              "      <td>Married-civ-spouse</td>\n",
              "      <td>Handlers-cleaners</td>\n",
              "      <td>Husband</td>\n",
              "      <td>Black</td>\n",
              "      <td>Male</td>\n",
              "      <td>-0.146733</td>\n",
              "      <td>-0.21878</td>\n",
              "      <td>-0.078120</td>\n",
              "      <td>United-States</td>\n",
              "    </tr>\n",
              "    <tr>\n",
              "      <th>4</th>\n",
              "      <td>-0.798015</td>\n",
              "      <td>Private</td>\n",
              "      <td>10</td>\n",
              "      <td>1.128753</td>\n",
              "      <td>Married-civ-spouse</td>\n",
              "      <td>Prof-specialty</td>\n",
              "      <td>Wife</td>\n",
              "      <td>Black</td>\n",
              "      <td>Female</td>\n",
              "      <td>-0.146733</td>\n",
              "      <td>-0.21878</td>\n",
              "      <td>-0.078120</td>\n",
              "      <td>Cuba</td>\n",
              "    </tr>\n",
              "  </tbody>\n",
              "</table>\n",
              "</div>"
            ],
            "text/plain": [
              "        age          workclass  ...  hours_per_week  native_country\n",
              "0  0.034201          State-gov  ...       -0.078120   United-States\n",
              "1  0.866417   Self-emp-not-inc  ...       -2.326738   United-States\n",
              "2 -0.041455            Private  ...       -0.078120   United-States\n",
              "3  1.093385            Private  ...       -0.078120   United-States\n",
              "4 -0.798015            Private  ...       -0.078120            Cuba\n",
              "\n",
              "[5 rows x 13 columns]"
            ]
          },
          "metadata": {
            "tags": []
          },
          "execution_count": 140
        }
      ]
    },
    {
      "cell_type": "code",
      "metadata": {
        "id": "slnO1e7k5sZJ",
        "colab_type": "code",
        "outputId": "b1e92eef-cc15-4ecf-d0b2-3a3d860efdaa",
        "colab": {
          "base_uri": "https://localhost:8080/",
          "height": 304
        }
      },
      "source": [
        "\n",
        "# Categorical Nominal\n",
        "df = pd.get_dummies(df)\n",
        "\n",
        "df.head()"
      ],
      "execution_count": 0,
      "outputs": [
        {
          "output_type": "execute_result",
          "data": {
            "text/html": [
              "<div>\n",
              "<style scoped>\n",
              "    .dataframe tbody tr th:only-of-type {\n",
              "        vertical-align: middle;\n",
              "    }\n",
              "\n",
              "    .dataframe tbody tr th {\n",
              "        vertical-align: top;\n",
              "    }\n",
              "\n",
              "    .dataframe thead th {\n",
              "        text-align: right;\n",
              "    }\n",
              "</style>\n",
              "<table border=\"1\" class=\"dataframe\">\n",
              "  <thead>\n",
              "    <tr style=\"text-align: right;\">\n",
              "      <th></th>\n",
              "      <th>age</th>\n",
              "      <th>education_level</th>\n",
              "      <th>education_num</th>\n",
              "      <th>capital_gain</th>\n",
              "      <th>capital_loss</th>\n",
              "      <th>hours_per_week</th>\n",
              "      <th>workclass_ Federal-gov</th>\n",
              "      <th>workclass_ Local-gov</th>\n",
              "      <th>workclass_ Private</th>\n",
              "      <th>workclass_ Self-emp-inc</th>\n",
              "      <th>workclass_ Self-emp-not-inc</th>\n",
              "      <th>workclass_ State-gov</th>\n",
              "      <th>workclass_ Without-pay</th>\n",
              "      <th>marital_status_ Divorced</th>\n",
              "      <th>marital_status_ Married-AF-spouse</th>\n",
              "      <th>marital_status_ Married-civ-spouse</th>\n",
              "      <th>marital_status_ Married-spouse-absent</th>\n",
              "      <th>marital_status_ Never-married</th>\n",
              "      <th>marital_status_ Separated</th>\n",
              "      <th>marital_status_ Widowed</th>\n",
              "      <th>occupation_ Adm-clerical</th>\n",
              "      <th>occupation_ Armed-Forces</th>\n",
              "      <th>occupation_ Craft-repair</th>\n",
              "      <th>occupation_ Exec-managerial</th>\n",
              "      <th>occupation_ Farming-fishing</th>\n",
              "      <th>occupation_ Handlers-cleaners</th>\n",
              "      <th>occupation_ Machine-op-inspct</th>\n",
              "      <th>occupation_ Other-service</th>\n",
              "      <th>occupation_ Priv-house-serv</th>\n",
              "      <th>occupation_ Prof-specialty</th>\n",
              "      <th>occupation_ Protective-serv</th>\n",
              "      <th>occupation_ Sales</th>\n",
              "      <th>occupation_ Tech-support</th>\n",
              "      <th>occupation_ Transport-moving</th>\n",
              "      <th>relationship_ Husband</th>\n",
              "      <th>relationship_ Not-in-family</th>\n",
              "      <th>relationship_ Other-relative</th>\n",
              "      <th>relationship_ Own-child</th>\n",
              "      <th>relationship_ Unmarried</th>\n",
              "      <th>relationship_ Wife</th>\n",
              "      <th>...</th>\n",
              "      <th>native_country_ Canada</th>\n",
              "      <th>native_country_ China</th>\n",
              "      <th>native_country_ Columbia</th>\n",
              "      <th>native_country_ Cuba</th>\n",
              "      <th>native_country_ Dominican-Republic</th>\n",
              "      <th>native_country_ Ecuador</th>\n",
              "      <th>native_country_ El-Salvador</th>\n",
              "      <th>native_country_ England</th>\n",
              "      <th>native_country_ France</th>\n",
              "      <th>native_country_ Germany</th>\n",
              "      <th>native_country_ Greece</th>\n",
              "      <th>native_country_ Guatemala</th>\n",
              "      <th>native_country_ Haiti</th>\n",
              "      <th>native_country_ Holand-Netherlands</th>\n",
              "      <th>native_country_ Honduras</th>\n",
              "      <th>native_country_ Hong</th>\n",
              "      <th>native_country_ Hungary</th>\n",
              "      <th>native_country_ India</th>\n",
              "      <th>native_country_ Iran</th>\n",
              "      <th>native_country_ Ireland</th>\n",
              "      <th>native_country_ Italy</th>\n",
              "      <th>native_country_ Jamaica</th>\n",
              "      <th>native_country_ Japan</th>\n",
              "      <th>native_country_ Laos</th>\n",
              "      <th>native_country_ Mexico</th>\n",
              "      <th>native_country_ Nicaragua</th>\n",
              "      <th>native_country_ Outlying-US(Guam-USVI-etc)</th>\n",
              "      <th>native_country_ Peru</th>\n",
              "      <th>native_country_ Philippines</th>\n",
              "      <th>native_country_ Poland</th>\n",
              "      <th>native_country_ Portugal</th>\n",
              "      <th>native_country_ Puerto-Rico</th>\n",
              "      <th>native_country_ Scotland</th>\n",
              "      <th>native_country_ South</th>\n",
              "      <th>native_country_ Taiwan</th>\n",
              "      <th>native_country_ Thailand</th>\n",
              "      <th>native_country_ Trinadad&amp;Tobago</th>\n",
              "      <th>native_country_ United-States</th>\n",
              "      <th>native_country_ Vietnam</th>\n",
              "      <th>native_country_ Yugoslavia</th>\n",
              "    </tr>\n",
              "  </thead>\n",
              "  <tbody>\n",
              "    <tr>\n",
              "      <th>0</th>\n",
              "      <td>0.034201</td>\n",
              "      <td>10</td>\n",
              "      <td>1.128753</td>\n",
              "      <td>0.142888</td>\n",
              "      <td>-0.21878</td>\n",
              "      <td>-0.078120</td>\n",
              "      <td>0</td>\n",
              "      <td>0</td>\n",
              "      <td>0</td>\n",
              "      <td>0</td>\n",
              "      <td>0</td>\n",
              "      <td>1</td>\n",
              "      <td>0</td>\n",
              "      <td>0</td>\n",
              "      <td>0</td>\n",
              "      <td>0</td>\n",
              "      <td>0</td>\n",
              "      <td>1</td>\n",
              "      <td>0</td>\n",
              "      <td>0</td>\n",
              "      <td>1</td>\n",
              "      <td>0</td>\n",
              "      <td>0</td>\n",
              "      <td>0</td>\n",
              "      <td>0</td>\n",
              "      <td>0</td>\n",
              "      <td>0</td>\n",
              "      <td>0</td>\n",
              "      <td>0</td>\n",
              "      <td>0</td>\n",
              "      <td>0</td>\n",
              "      <td>0</td>\n",
              "      <td>0</td>\n",
              "      <td>0</td>\n",
              "      <td>0</td>\n",
              "      <td>1</td>\n",
              "      <td>0</td>\n",
              "      <td>0</td>\n",
              "      <td>0</td>\n",
              "      <td>0</td>\n",
              "      <td>...</td>\n",
              "      <td>0</td>\n",
              "      <td>0</td>\n",
              "      <td>0</td>\n",
              "      <td>0</td>\n",
              "      <td>0</td>\n",
              "      <td>0</td>\n",
              "      <td>0</td>\n",
              "      <td>0</td>\n",
              "      <td>0</td>\n",
              "      <td>0</td>\n",
              "      <td>0</td>\n",
              "      <td>0</td>\n",
              "      <td>0</td>\n",
              "      <td>0</td>\n",
              "      <td>0</td>\n",
              "      <td>0</td>\n",
              "      <td>0</td>\n",
              "      <td>0</td>\n",
              "      <td>0</td>\n",
              "      <td>0</td>\n",
              "      <td>0</td>\n",
              "      <td>0</td>\n",
              "      <td>0</td>\n",
              "      <td>0</td>\n",
              "      <td>0</td>\n",
              "      <td>0</td>\n",
              "      <td>0</td>\n",
              "      <td>0</td>\n",
              "      <td>0</td>\n",
              "      <td>0</td>\n",
              "      <td>0</td>\n",
              "      <td>0</td>\n",
              "      <td>0</td>\n",
              "      <td>0</td>\n",
              "      <td>0</td>\n",
              "      <td>0</td>\n",
              "      <td>0</td>\n",
              "      <td>1</td>\n",
              "      <td>0</td>\n",
              "      <td>0</td>\n",
              "    </tr>\n",
              "    <tr>\n",
              "      <th>1</th>\n",
              "      <td>0.866417</td>\n",
              "      <td>10</td>\n",
              "      <td>1.128753</td>\n",
              "      <td>-0.146733</td>\n",
              "      <td>-0.21878</td>\n",
              "      <td>-2.326738</td>\n",
              "      <td>0</td>\n",
              "      <td>0</td>\n",
              "      <td>0</td>\n",
              "      <td>0</td>\n",
              "      <td>1</td>\n",
              "      <td>0</td>\n",
              "      <td>0</td>\n",
              "      <td>0</td>\n",
              "      <td>0</td>\n",
              "      <td>1</td>\n",
              "      <td>0</td>\n",
              "      <td>0</td>\n",
              "      <td>0</td>\n",
              "      <td>0</td>\n",
              "      <td>0</td>\n",
              "      <td>0</td>\n",
              "      <td>0</td>\n",
              "      <td>1</td>\n",
              "      <td>0</td>\n",
              "      <td>0</td>\n",
              "      <td>0</td>\n",
              "      <td>0</td>\n",
              "      <td>0</td>\n",
              "      <td>0</td>\n",
              "      <td>0</td>\n",
              "      <td>0</td>\n",
              "      <td>0</td>\n",
              "      <td>0</td>\n",
              "      <td>1</td>\n",
              "      <td>0</td>\n",
              "      <td>0</td>\n",
              "      <td>0</td>\n",
              "      <td>0</td>\n",
              "      <td>0</td>\n",
              "      <td>...</td>\n",
              "      <td>0</td>\n",
              "      <td>0</td>\n",
              "      <td>0</td>\n",
              "      <td>0</td>\n",
              "      <td>0</td>\n",
              "      <td>0</td>\n",
              "      <td>0</td>\n",
              "      <td>0</td>\n",
              "      <td>0</td>\n",
              "      <td>0</td>\n",
              "      <td>0</td>\n",
              "      <td>0</td>\n",
              "      <td>0</td>\n",
              "      <td>0</td>\n",
              "      <td>0</td>\n",
              "      <td>0</td>\n",
              "      <td>0</td>\n",
              "      <td>0</td>\n",
              "      <td>0</td>\n",
              "      <td>0</td>\n",
              "      <td>0</td>\n",
              "      <td>0</td>\n",
              "      <td>0</td>\n",
              "      <td>0</td>\n",
              "      <td>0</td>\n",
              "      <td>0</td>\n",
              "      <td>0</td>\n",
              "      <td>0</td>\n",
              "      <td>0</td>\n",
              "      <td>0</td>\n",
              "      <td>0</td>\n",
              "      <td>0</td>\n",
              "      <td>0</td>\n",
              "      <td>0</td>\n",
              "      <td>0</td>\n",
              "      <td>0</td>\n",
              "      <td>0</td>\n",
              "      <td>1</td>\n",
              "      <td>0</td>\n",
              "      <td>0</td>\n",
              "    </tr>\n",
              "    <tr>\n",
              "      <th>2</th>\n",
              "      <td>-0.041455</td>\n",
              "      <td>9</td>\n",
              "      <td>-0.438122</td>\n",
              "      <td>-0.146733</td>\n",
              "      <td>-0.21878</td>\n",
              "      <td>-0.078120</td>\n",
              "      <td>0</td>\n",
              "      <td>0</td>\n",
              "      <td>1</td>\n",
              "      <td>0</td>\n",
              "      <td>0</td>\n",
              "      <td>0</td>\n",
              "      <td>0</td>\n",
              "      <td>1</td>\n",
              "      <td>0</td>\n",
              "      <td>0</td>\n",
              "      <td>0</td>\n",
              "      <td>0</td>\n",
              "      <td>0</td>\n",
              "      <td>0</td>\n",
              "      <td>0</td>\n",
              "      <td>0</td>\n",
              "      <td>0</td>\n",
              "      <td>0</td>\n",
              "      <td>0</td>\n",
              "      <td>1</td>\n",
              "      <td>0</td>\n",
              "      <td>0</td>\n",
              "      <td>0</td>\n",
              "      <td>0</td>\n",
              "      <td>0</td>\n",
              "      <td>0</td>\n",
              "      <td>0</td>\n",
              "      <td>0</td>\n",
              "      <td>0</td>\n",
              "      <td>1</td>\n",
              "      <td>0</td>\n",
              "      <td>0</td>\n",
              "      <td>0</td>\n",
              "      <td>0</td>\n",
              "      <td>...</td>\n",
              "      <td>0</td>\n",
              "      <td>0</td>\n",
              "      <td>0</td>\n",
              "      <td>0</td>\n",
              "      <td>0</td>\n",
              "      <td>0</td>\n",
              "      <td>0</td>\n",
              "      <td>0</td>\n",
              "      <td>0</td>\n",
              "      <td>0</td>\n",
              "      <td>0</td>\n",
              "      <td>0</td>\n",
              "      <td>0</td>\n",
              "      <td>0</td>\n",
              "      <td>0</td>\n",
              "      <td>0</td>\n",
              "      <td>0</td>\n",
              "      <td>0</td>\n",
              "      <td>0</td>\n",
              "      <td>0</td>\n",
              "      <td>0</td>\n",
              "      <td>0</td>\n",
              "      <td>0</td>\n",
              "      <td>0</td>\n",
              "      <td>0</td>\n",
              "      <td>0</td>\n",
              "      <td>0</td>\n",
              "      <td>0</td>\n",
              "      <td>0</td>\n",
              "      <td>0</td>\n",
              "      <td>0</td>\n",
              "      <td>0</td>\n",
              "      <td>0</td>\n",
              "      <td>0</td>\n",
              "      <td>0</td>\n",
              "      <td>0</td>\n",
              "      <td>0</td>\n",
              "      <td>1</td>\n",
              "      <td>0</td>\n",
              "      <td>0</td>\n",
              "    </tr>\n",
              "    <tr>\n",
              "      <th>3</th>\n",
              "      <td>1.093385</td>\n",
              "      <td>7</td>\n",
              "      <td>-1.221559</td>\n",
              "      <td>-0.146733</td>\n",
              "      <td>-0.21878</td>\n",
              "      <td>-0.078120</td>\n",
              "      <td>0</td>\n",
              "      <td>0</td>\n",
              "      <td>1</td>\n",
              "      <td>0</td>\n",
              "      <td>0</td>\n",
              "      <td>0</td>\n",
              "      <td>0</td>\n",
              "      <td>0</td>\n",
              "      <td>0</td>\n",
              "      <td>1</td>\n",
              "      <td>0</td>\n",
              "      <td>0</td>\n",
              "      <td>0</td>\n",
              "      <td>0</td>\n",
              "      <td>0</td>\n",
              "      <td>0</td>\n",
              "      <td>0</td>\n",
              "      <td>0</td>\n",
              "      <td>0</td>\n",
              "      <td>1</td>\n",
              "      <td>0</td>\n",
              "      <td>0</td>\n",
              "      <td>0</td>\n",
              "      <td>0</td>\n",
              "      <td>0</td>\n",
              "      <td>0</td>\n",
              "      <td>0</td>\n",
              "      <td>0</td>\n",
              "      <td>1</td>\n",
              "      <td>0</td>\n",
              "      <td>0</td>\n",
              "      <td>0</td>\n",
              "      <td>0</td>\n",
              "      <td>0</td>\n",
              "      <td>...</td>\n",
              "      <td>0</td>\n",
              "      <td>0</td>\n",
              "      <td>0</td>\n",
              "      <td>0</td>\n",
              "      <td>0</td>\n",
              "      <td>0</td>\n",
              "      <td>0</td>\n",
              "      <td>0</td>\n",
              "      <td>0</td>\n",
              "      <td>0</td>\n",
              "      <td>0</td>\n",
              "      <td>0</td>\n",
              "      <td>0</td>\n",
              "      <td>0</td>\n",
              "      <td>0</td>\n",
              "      <td>0</td>\n",
              "      <td>0</td>\n",
              "      <td>0</td>\n",
              "      <td>0</td>\n",
              "      <td>0</td>\n",
              "      <td>0</td>\n",
              "      <td>0</td>\n",
              "      <td>0</td>\n",
              "      <td>0</td>\n",
              "      <td>0</td>\n",
              "      <td>0</td>\n",
              "      <td>0</td>\n",
              "      <td>0</td>\n",
              "      <td>0</td>\n",
              "      <td>0</td>\n",
              "      <td>0</td>\n",
              "      <td>0</td>\n",
              "      <td>0</td>\n",
              "      <td>0</td>\n",
              "      <td>0</td>\n",
              "      <td>0</td>\n",
              "      <td>0</td>\n",
              "      <td>1</td>\n",
              "      <td>0</td>\n",
              "      <td>0</td>\n",
              "    </tr>\n",
              "    <tr>\n",
              "      <th>4</th>\n",
              "      <td>-0.798015</td>\n",
              "      <td>10</td>\n",
              "      <td>1.128753</td>\n",
              "      <td>-0.146733</td>\n",
              "      <td>-0.21878</td>\n",
              "      <td>-0.078120</td>\n",
              "      <td>0</td>\n",
              "      <td>0</td>\n",
              "      <td>1</td>\n",
              "      <td>0</td>\n",
              "      <td>0</td>\n",
              "      <td>0</td>\n",
              "      <td>0</td>\n",
              "      <td>0</td>\n",
              "      <td>0</td>\n",
              "      <td>1</td>\n",
              "      <td>0</td>\n",
              "      <td>0</td>\n",
              "      <td>0</td>\n",
              "      <td>0</td>\n",
              "      <td>0</td>\n",
              "      <td>0</td>\n",
              "      <td>0</td>\n",
              "      <td>0</td>\n",
              "      <td>0</td>\n",
              "      <td>0</td>\n",
              "      <td>0</td>\n",
              "      <td>0</td>\n",
              "      <td>0</td>\n",
              "      <td>1</td>\n",
              "      <td>0</td>\n",
              "      <td>0</td>\n",
              "      <td>0</td>\n",
              "      <td>0</td>\n",
              "      <td>0</td>\n",
              "      <td>0</td>\n",
              "      <td>0</td>\n",
              "      <td>0</td>\n",
              "      <td>0</td>\n",
              "      <td>1</td>\n",
              "      <td>...</td>\n",
              "      <td>0</td>\n",
              "      <td>0</td>\n",
              "      <td>0</td>\n",
              "      <td>1</td>\n",
              "      <td>0</td>\n",
              "      <td>0</td>\n",
              "      <td>0</td>\n",
              "      <td>0</td>\n",
              "      <td>0</td>\n",
              "      <td>0</td>\n",
              "      <td>0</td>\n",
              "      <td>0</td>\n",
              "      <td>0</td>\n",
              "      <td>0</td>\n",
              "      <td>0</td>\n",
              "      <td>0</td>\n",
              "      <td>0</td>\n",
              "      <td>0</td>\n",
              "      <td>0</td>\n",
              "      <td>0</td>\n",
              "      <td>0</td>\n",
              "      <td>0</td>\n",
              "      <td>0</td>\n",
              "      <td>0</td>\n",
              "      <td>0</td>\n",
              "      <td>0</td>\n",
              "      <td>0</td>\n",
              "      <td>0</td>\n",
              "      <td>0</td>\n",
              "      <td>0</td>\n",
              "      <td>0</td>\n",
              "      <td>0</td>\n",
              "      <td>0</td>\n",
              "      <td>0</td>\n",
              "      <td>0</td>\n",
              "      <td>0</td>\n",
              "      <td>0</td>\n",
              "      <td>0</td>\n",
              "      <td>0</td>\n",
              "      <td>0</td>\n",
              "    </tr>\n",
              "  </tbody>\n",
              "</table>\n",
              "<p>5 rows × 88 columns</p>\n",
              "</div>"
            ],
            "text/plain": [
              "        age  ...  native_country_ Yugoslavia\n",
              "0  0.034201  ...                           0\n",
              "1  0.866417  ...                           0\n",
              "2 -0.041455  ...                           0\n",
              "3  1.093385  ...                           0\n",
              "4 -0.798015  ...                           0\n",
              "\n",
              "[5 rows x 88 columns]"
            ]
          },
          "metadata": {
            "tags": []
          },
          "execution_count": 141
        }
      ]
    },
    {
      "cell_type": "markdown",
      "metadata": {
        "id": "XI1H-IUIEdV4",
        "colab_type": "text"
      },
      "source": [
        "## 5.2 TUNNING"
      ]
    },
    {
      "cell_type": "code",
      "metadata": {
        "id": "uhRjmU9Z_kHr",
        "colab_type": "code",
        "outputId": "8c4a6dc4-39a9-499e-c319-2c947a604564",
        "colab": {
          "base_uri": "https://localhost:8080/",
          "height": 68
        }
      },
      "source": [
        "from sklearn.model_selection import GridSearchCV\n",
        "from sklearn.tree import DecisionTreeClassifier\n",
        "\n",
        "# Decision Tree best parameters\n",
        "\n",
        "t0 = time.time()\n",
        "\n",
        "param_grid = { \n",
        "    'max_depth': [15, 32, 64],\n",
        "    'min_samples_split': [0.000001, 0.00001, 0.0001],\n",
        "    'min_samples_leaf' : [0.0001, 0.001, 0.01]\n",
        "}\n",
        "clf = DecisionTreeClassifier()\n",
        "grid = GridSearchCV(clf, param_grid, cv=5)\n",
        "grid.fit(df, y)\n",
        "\n",
        "print(grid.best_params_)    \n",
        "print(grid.best_score_)\n",
        "\n",
        "print(f'{int(time.time()-t0)} seconds lapsed')\n",
        "\n"
      ],
      "execution_count": 0,
      "outputs": [
        {
          "output_type": "stream",
          "text": [
            "{'max_depth': 32, 'min_samples_leaf': 0.001, 'min_samples_split': 1e-06}\n",
            "0.8563752156030251\n",
            "48 seconds lapsed\n"
          ],
          "name": "stdout"
        }
      ]
    },
    {
      "cell_type": "code",
      "metadata": {
        "id": "u1kiK7tqtCXS",
        "colab_type": "code",
        "outputId": "7678c5d4-d320-4a4c-e1c0-852e94526293",
        "colab": {
          "base_uri": "https://localhost:8080/",
          "height": 68
        }
      },
      "source": [
        "\n",
        "from sklearn.metrics import precision_recall_fscore_support as score\n",
        "from sklearn.model_selection import cross_val_score\n",
        "from sklearn.tree import DecisionTreeClassifier\n",
        "\n",
        "t0 = time.time()\n",
        "\n",
        "clf = DecisionTreeClassifier(max_depth=32, min_samples_split=0.000001, min_samples_leaf=0.001)\n",
        "clf.fit(df, y)\n",
        "print(f'DecisionTree, {time.time()-t0:.3f} seconds training.') \n",
        "\n",
        "scores = cross_val_score(clf, df, y, cv=5)\n",
        "print(scores)\n",
        "print(f\"Accuracy: {scores.mean():0.2f} (+/- {scores.std() * 2:0.5f})\")"
      ],
      "execution_count": 0,
      "outputs": [
        {
          "output_type": "stream",
          "text": [
            "DecisionTree, 0.542 seconds training.\n",
            "[0.85638474 0.85616363 0.86279713 0.85205661 0.85447307]\n",
            "Accuracy: 0.86 (+/- 0.00713)\n"
          ],
          "name": "stdout"
        }
      ]
    }
  ]
}