{
  "nbformat": 4,
  "nbformat_minor": 0,
  "metadata": {
    "colab": {
      "name": "MLIntro_P1_Fundamentals.ipynb",
      "version": "0.3.2",
      "provenance": [],
      "collapsed_sections": [
        "8YigN9O1lvAF",
        "9tOReNZ5GM2x",
        "oBwgMIoBzQBQ",
        "E-g8LKf8Q0VM",
        "SvIRZFrxuOjP",
        "Al5BG4ONyzdh",
        "0cZbSsnGzhpg",
        "U-WZI0lT6N7m"
      ],
      "toc_visible": true,
      "include_colab_link": true
    },
    "kernelspec": {
      "name": "python3",
      "display_name": "Python 3"
    }
  },
  "cells": [
    {
      "cell_type": "markdown",
      "metadata": {
        "id": "view-in-github",
        "colab_type": "text"
      },
      "source": [
        "<a href=\"https://colab.research.google.com/github/freny-caicedo-endava/Pio.ML/blob/master/MLIntro_P1_Fundamentals_Initial.ipynb\" target=\"_parent\"><img src=\"https://colab.research.google.com/assets/colab-badge.svg\" alt=\"Open In Colab\"/></a>"
      ]
    },
    {
      "cell_type": "markdown",
      "metadata": {
        "id": "Wg28iOZSFdHr",
        "colab_type": "text"
      },
      "source": [
        "\n",
        "> ![answer](https://drive.google.com/uc?export=view&id=1yj7jPO0w4Ayq1OxkpflWOE-BBdMd_O4k)\n",
        "\n",
        "## Introduction to Machine Learning.      \n",
        "###PART ONE: Fundamentals\n"
      ]
    },
    {
      "cell_type": "markdown",
      "metadata": {
        "id": "8YigN9O1lvAF",
        "colab_type": "text"
      },
      "source": [
        "# 1. WARMING UP"
      ]
    },
    {
      "cell_type": "markdown",
      "metadata": {
        "id": "RR5K4QhRM8qf",
        "colab_type": "text"
      },
      "source": [
        "\n",
        "## 1.1 So, what is Machine learning?\n",
        "\n",
        "\n",
        "*   \"*Field of study that gives computers the ability to learn without being explicitly programmed*\" - Arthur Samuel, IBM, 1959 \n",
        "*   \"*Machine learning algorithms can figure out how to perform important tasks by generalizing from examples*\" - Pedro Domingos, university of Washington\n",
        "*   Field of Computer Science and Artificial intelligence that “learns” from data without human intervention\n",
        "\n",
        "> ![answer](https://drive.google.com/uc?export=view&id=1nnfXzHPEfdqdgA_RNPZfeUYYsa_c_Osr)\n",
        "\n",
        "> Just one sample, can we figure out what's next?\n",
        "\n",
        "![answer](https://drive.google.com/uc?export=view&id=1pGR-uys5YAXYrRNkbI60o2u8ABxDH610)\n",
        "\n",
        "\n",
        "> What about having two samples?\n",
        "\n",
        "![answer](https://drive.google.com/uc?export=view&id=1XgkXCZtdg_1Cl8osr3yjRGiGJXHcomF-)\n",
        "\n",
        "> Answer:\n",
        "\n",
        "![answer](https://drive.google.com/uc?export=view&id=1mRTbLt2KI7X8pKSV0LP6zxd8yqCTHcHv)\n",
        "\n",
        "\n",
        "\n",
        "![answer](https://drive.google.com/uc?export=view&id=1lQ6xJFo8H6NUar4V4szXY1i2n7wVHJEP)\n"
      ]
    },
    {
      "cell_type": "markdown",
      "metadata": {
        "id": "cDfoYi8WU7XM",
        "colab_type": "text"
      },
      "source": [
        "## 1.2 Kinds of Machine learning\n",
        "\n",
        "\n",
        "### Supervised Learning\n",
        "\n",
        "In this case, the system tries to learn from the previous examples that are given.\n",
        "\n",
        "We have both input variables (x) and output variables(Y) and can use an algorithm to derive the mapping function from the input to the output Y = f(X).\n",
        "\n",
        "The goal is to approximate the mapping function so well that when you have new input data (x) you can predict the output variables (Y).\n",
        "\n",
        "\n",
        "Supervised learning can be further divided into two parts: *Classification* and *Regression*.\n",
        "\n",
        "![answer](https://drive.google.com/uc?export=view&id=1MZovtEKTrnKyYufVQgzPbIOxKey6ppfp)\n",
        "\n",
        "A *Classification* problem is when the output variable is a category or a group, such as “disease” and “no disease” or “spam” and “no spam”, so the function being learned is discrete.\n",
        "\n",
        "A *Regression* problem is when the output variable is a real value, such as “dollars” or “height.”\n",
        "\n",
        "\n",
        "### Unsupervised Learning\n",
        "\n",
        "Here, the algorithms are left to themselves to discover interesting structures in the data because  you only have input data (X) and no corresponding output variables, the system attempts to find the patterns directly from the example given.\n",
        "\n",
        "![answer](https://drive.google.com/uc?export=view&id=1-WsBVaYy1ZtHtW5qsKMSz3-pZezrwPR4)\n",
        "\n",
        "They are quite useful in providing humans with insights into the meaning of data and new useful inputs to supervised machine learning algorithms.\n",
        "\n",
        "\n",
        "### Reinforcement Learning\n",
        "\n",
        "A reinforcement learning algorithm learns by interacting with its environment, it receives rewards by performing correctly and penalties for performing incorrectly. It learns without human intervention by maximizing its reward and minimizing its penalty, in this way the agent improves its environment knowledge to select the next action.\n",
        "\n",
        "\n",
        "### Deep Learning\n",
        "\n",
        "Deep Learning is a subfield of machine learning that mimics the workings of the human brain in processing data for use in decision making.\n",
        "\n",
        "Most deep learning methods use neural network architectures, which is why deep learning models are often referred to as deep neural networks.\n",
        "\n",
        "![answer](https://drive.google.com/uc?export=view&id=1r25sJVCmCKcxtRzJJJ32gnOSa397eorn)\n",
        " Networks can have tens or hundreds of hidden layers."
      ]
    },
    {
      "cell_type": "markdown",
      "metadata": {
        "id": "9tOReNZ5GM2x",
        "colab_type": "text"
      },
      "source": [
        "# 2. REGRESSION"
      ]
    },
    {
      "cell_type": "markdown",
      "metadata": {
        "id": "a8OBFn7SBDIG",
        "colab_type": "text"
      },
      "source": [
        "### 2.1 Basic problem\n",
        "\n",
        "```\n",
        "-------------\n",
        "  x  │  y\n",
        "-------------\n",
        "  1  │  1\n",
        "  2  │  4\n",
        "  3  │ ???\n",
        "------------\n",
        "\n",
        "```"
      ]
    },
    {
      "cell_type": "code",
      "metadata": {
        "id": "JXFjcLelAfXi",
        "colab_type": "code",
        "colab": {}
      },
      "source": [
        "import matplotlib.pyplot as plt\n",
        "\n",
        "# plot data"
      ],
      "execution_count": 0,
      "outputs": []
    },
    {
      "cell_type": "markdown",
      "metadata": {
        "id": "DbztbprO98tJ",
        "colab_type": "text"
      },
      "source": [
        "\n",
        "```\n",
        "m = (y2 − y1)/(x2 − x1)\n",
        "m = (4 - 1)/(2 - 1)\n",
        "m = 3\n",
        "\n",
        "y − y1 = m(x − x1)\n",
        "y - 1 = 3(x - 1)\n",
        "y = 3x - 3 + 1\n",
        "\n",
        "y = 3x - 2\n",
        "\n",
        "```"
      ]
    },
    {
      "cell_type": "code",
      "metadata": {
        "id": "A_yYaHCCl9Y5",
        "colab_type": "code",
        "colab": {}
      },
      "source": [
        "# plot function results and original points"
      ],
      "execution_count": 0,
      "outputs": []
    },
    {
      "cell_type": "markdown",
      "metadata": {
        "id": "llgEESVZUaZR",
        "colab_type": "text"
      },
      "source": [
        "### 2.2 A bit more complex problem\n",
        "\n",
        "```\n",
        "-------------\n",
        "  x  │  y\n",
        "-------------\n",
        "  1  │  3\n",
        "  2  │  3.2\n",
        "  3  │  4\n",
        "  4  │  2\n",
        "  5  │  3.8\n",
        "  6  │  3.5\n",
        "------------\n",
        "```"
      ]
    },
    {
      "cell_type": "code",
      "metadata": {
        "id": "m3wCz-m42L3P",
        "colab_type": "code",
        "colab": {}
      },
      "source": [
        "from sklearn.linear_model import LinearRegression\n",
        "import numpy as np\n",
        "\n",
        "\n",
        "# COLLECT AND EXPLORE\n",
        "\n",
        "table = {\n",
        "    1: 2.5,\n",
        "    2: 3.2,\n",
        "    3: 3.5,\n",
        "    4: 2.7,\n",
        "    5: 3.8,\n",
        "    6: 3.5\n",
        "}\n",
        "\n",
        "# plot data\n",
        "\n",
        "\n",
        "# TRAIN\n",
        "\n",
        "# use linear regression\n",
        "\n",
        "\n",
        "# TEST\n",
        "\n",
        "# plot model and sorce data \n"
      ],
      "execution_count": 0,
      "outputs": []
    },
    {
      "cell_type": "markdown",
      "metadata": {
        "id": "oBwgMIoBzQBQ",
        "colab_type": "text"
      },
      "source": [
        "# 3. CLASSIFICATION\n",
        "\n",
        "In the next example we need to build a model to predict is a person earns more that USD$ 50K a year or not."
      ]
    },
    {
      "cell_type": "markdown",
      "metadata": {
        "id": "E-g8LKf8Q0VM",
        "colab_type": "text"
      },
      "source": [
        "## 3.1 Load and pre-process data\n",
        "\n",
        "Let's start by uploading our census.csv file using Colab's interface."
      ]
    },
    {
      "cell_type": "code",
      "metadata": {
        "id": "BX2_Gd0NNUyP",
        "colab_type": "code",
        "colab": {}
      },
      "source": [
        "import pandas as pd\n",
        "\n",
        "data_url = 'https://raw.githubusercontent.com/freny-caicedo-endava/Pio.ML/master/census.csv'\n",
        "\n",
        "# load data as Pandas Dataframe and preview"
      ],
      "execution_count": 0,
      "outputs": []
    },
    {
      "cell_type": "code",
      "metadata": {
        "id": "UcJvSnysR7Vn",
        "colab_type": "code",
        "colab": {}
      },
      "source": [
        "from sklearn.preprocessing import LabelEncoder\n",
        "\n",
        "\n",
        "string_cols = ['workclass', 'education_level', 'marital_status', 'occupation',\n",
        "               'relationship', 'race', 'sex', 'native_country', 'income']\n",
        "\n",
        "# encode no numerical columns"
      ],
      "execution_count": 0,
      "outputs": []
    },
    {
      "cell_type": "code",
      "metadata": {
        "id": "aGZyuRL9tIcP",
        "colab_type": "code",
        "colab": {}
      },
      "source": [
        "# remove target column"
      ],
      "execution_count": 0,
      "outputs": []
    },
    {
      "cell_type": "markdown",
      "metadata": {
        "id": "SvIRZFrxuOjP",
        "colab_type": "text"
      },
      "source": [
        "## 3.2 Train and measure Accuracy"
      ]
    },
    {
      "cell_type": "markdown",
      "metadata": {
        "id": "xlDMAvmpuYV3",
        "colab_type": "text"
      },
      "source": [
        "### - Native Bayes"
      ]
    },
    {
      "cell_type": "code",
      "metadata": {
        "id": "ZfgiHkK6ufdx",
        "colab_type": "code",
        "colab": {}
      },
      "source": [
        "from sklearn.model_selection import cross_val_score\n",
        "from sklearn.naive_bayes import GaussianNB\n",
        "import time\n",
        "\n",
        "\n",
        "t0 = time.time()\n",
        "\n",
        "# build model and measure time\n",
        "\n",
        "# get scores"
      ],
      "execution_count": 0,
      "outputs": []
    },
    {
      "cell_type": "markdown",
      "metadata": {
        "id": "Al5BG4ONyzdh",
        "colab_type": "text"
      },
      "source": [
        "### - Decision Trees"
      ]
    },
    {
      "cell_type": "code",
      "metadata": {
        "id": "w7FwHLVny5Gn",
        "colab_type": "code",
        "colab": {}
      },
      "source": [
        "from sklearn.tree import DecisionTreeClassifier\n",
        "\n",
        "\n",
        "t0 = time.time()\n",
        "\n",
        "# build model and measure time\n",
        "\n",
        "# get scores"
      ],
      "execution_count": 0,
      "outputs": []
    },
    {
      "cell_type": "markdown",
      "metadata": {
        "id": "0cZbSsnGzhpg",
        "colab_type": "text"
      },
      "source": [
        "### - Random Forest"
      ]
    },
    {
      "cell_type": "code",
      "metadata": {
        "id": "jgn3bfBEzl2H",
        "colab_type": "code",
        "colab": {}
      },
      "source": [
        "from sklearn.ensemble import RandomForestClassifier\n",
        "\n",
        "\n",
        "t0 = time.time()\n",
        "\n",
        "# build model and measure time\n",
        "\n",
        "# get scores"
      ],
      "execution_count": 0,
      "outputs": []
    },
    {
      "cell_type": "markdown",
      "metadata": {
        "id": "U-WZI0lT6N7m",
        "colab_type": "text"
      },
      "source": [
        "## 3.3  Testing new samples"
      ]
    },
    {
      "cell_type": "code",
      "metadata": {
        "id": "Yd1NLnEV7Ht_",
        "colab_type": "code",
        "cellView": "both",
        "colab": {}
      },
      "source": [
        "from IPython.display import display, HTML\n",
        "\n",
        "\n",
        "age = 39 #@param {type:\"slider\", min:18, max:70, step:1}\n",
        "workclass= \" State-gov\" #@param [' State-gov', ' Self-emp-not-inc', ' Private', ' Federal-gov', ' Local-gov', ' Self-emp-inc', ' Without-pay']\n",
        "education_level= \" Masters\" #@param [' Bachelors', ' HS-grad', ' 11th', ' Masters', ' 9th', ' Some-college', ' Assoc-acdm', ' 7th-8th', ' Doctorate', ' Assoc-voc', ' Prof-school', ' 5th-6th', ' 10th', ' Preschool', ' 12th', ' 1st-4th']\n",
        "education_num = 13 #@param {type:\"number\"}\n",
        "marital_status= \" Never-married\" #@param [' Never-married', ' Married-civ-spouse', ' Divorced', ' Married-spouse-absent', ' Separated', ' Married-AF-spouse', ' Widowed']\n",
        "occupation= \" Adm-clerical\" #@param [' Adm-clerical', ' Exec-managerial', ' Handlers-cleaners', ' Prof-specialty', ' Other-service', ' Sales', ' Transport-moving', ' Farming-fishing', ' Machine-op-inspct', ' Tech-support', ' Craft-repair', ' Protective-serv', ' Armed-Forces', ' Priv-house-serv']\n",
        "relationship= \" Not-in-family\" #@param [' Not-in-family', ' Husband', ' Wife', ' Own-child', ' Unmarried', ' Other-relative']\n",
        "race= \" White\" #@param [' White', ' Black', ' Asian-Pac-Islander', ' Amer-Indian-Eskimo', ' Other']\n",
        "sex= \" Male\" #@param [' Male', ' Female']\n",
        "capital_gain = 9741 #@param {type:\"slider\", min:0, max:20000, step:1}\n",
        "capital_loss = 1861 #@param {type:\"slider\", min:0, max:10000, step:1}\n",
        "hours_per_week = 40 #@param {type:\"slider\", min:1, max:100, step:1}\n",
        "native_country= \" United-States\" #@param [' United-States', ' Cuba', ' Jamaica', ' India', ' Mexico', ' Puerto-Rico', ' Honduras', ' England', ' Canada', ' Germany', ' Iran', ' Philippines', ' Poland', ' Columbia', ' Cambodia', ' Thailand', ' Ecuador', ' Laos', ' Taiwan', ' Haiti', ' Portugal', ' Dominican-Republic', ' El-Salvador', ' France', ' Guatemala', ' Italy', ' China', ' South', ' Japan', ' Yugoslavia', ' Peru', ' Outlying-US(Guam-USVI-etc)', ' Scotland', ' Trinadad&Tobago', ' Greece', ' Nicaragua', ' Vietnam', ' Hong', ' Ireland', ' Hungary', ' Holand-Netherlands']\n",
        "income = None\n",
        "\n",
        "\n",
        "# encode user inputs\n",
        "\n",
        "# get a prediction and decode it\n",
        "\n",
        "# print results\n",
        "\n",
        "# html = f\"\"\"\n",
        "#   <div style=\"padding: 3em; text-align: center;\">\n",
        "#     <h3>More than USD$50K a year?</h3>\n",
        "#     <h1>{}</h1>\n",
        "#   </div>\"\"\"\n",
        "\n"
      ],
      "execution_count": 0,
      "outputs": []
    }
  ]
}